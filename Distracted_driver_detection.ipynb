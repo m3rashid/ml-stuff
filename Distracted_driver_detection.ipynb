{
  "cells": [
    {
      "cell_type": "code",
      "execution_count": null,
      "metadata": {
        "colab": {},
        "colab_type": "code",
        "id": "2_617vZZ__SW"
      },
      "outputs": [],
      "source": [
        "%pip install fastai matplotlib "
      ]
    },
    {
      "cell_type": "code",
      "execution_count": null,
      "metadata": {},
      "outputs": [],
      "source": [
        "%reload_ext autoreload\n",
        "%matplotlib inline"
      ]
    },
    {
      "cell_type": "code",
      "execution_count": null,
      "metadata": {
        "colab": {},
        "colab_type": "code",
        "id": "vaYxZqgIAL4W"
      },
      "outputs": [],
      "source": [
        "from fastai import *\n",
        "from fastai.vision import *\n",
        "from fastai.metrics import error_rate,accuracy\n",
        "import pandas as pd\n",
        "import os\n",
        "\n",
        "Path = os.path"
      ]
    },
    {
      "cell_type": "code",
      "execution_count": null,
      "metadata": {
        "colab": {
          "base_uri": "https://localhost:8080/",
          "height": 34
        },
        "colab_type": "code",
        "id": "eWy7m8ZrAmZn",
        "outputId": "7a6f0a50-76d0-4d6d-a957-0f823aceff4c"
      },
      "outputs": [],
      "source": [
        "from google.colab import drive\n",
        "drive.mount('/content/gdrive', force_remount=True)"
      ]
    },
    {
      "cell_type": "code",
      "execution_count": null,
      "metadata": {
        "colab": {},
        "colab_type": "code",
        "id": "0F3jVKyuCzs2"
      },
      "outputs": [],
      "source": [
        "!mkdir Dataset"
      ]
    },
    {
      "cell_type": "code",
      "execution_count": null,
      "metadata": {
        "colab": {
          "base_uri": "https://localhost:8080/",
          "height": 85
        },
        "colab_type": "code",
        "id": "iWw-FmpRAqXq",
        "outputId": "f64ece14-d2f7-4cba-8df7-729b0684a181"
      },
      "outputs": [],
      "source": [
        "!unzip -I \"utf-8\" \"/content/gdrive/My Drive/state-farm-distracted-driver-detection.zip\" -d \"/content/Dataset\""
      ]
    },
    {
      "cell_type": "code",
      "execution_count": null,
      "metadata": {
        "colab": {
          "base_uri": "https://localhost:8080/",
          "height": 1000
        },
        "colab_type": "code",
        "id": "7zSaweZjCKnB",
        "outputId": "181c7ddd-23a7-4d6f-9d1d-b1f71524bc41"
      },
      "outputs": [],
      "source": [
        "!mkdir \"/content/Images\"\n",
        "!unzip -I \"utf-8\" \"/content/Dataset/imgs.zip\" -d \"/content/Dataset/Images\""
      ]
    },
    {
      "cell_type": "code",
      "execution_count": null,
      "metadata": {
        "colab": {
          "base_uri": "https://localhost:8080/",
          "height": 204
        },
        "colab_type": "code",
        "id": "UZhDl-nXDpIg",
        "outputId": "19c766b6-ddb2-421b-e030-41bfd3bf9643"
      },
      "outputs": [],
      "source": [
        "df = pd.read_csv(\"/content/Dataset/driver_imgs_list.csv\")\n",
        "df.head()"
      ]
    },
    {
      "cell_type": "code",
      "execution_count": null,
      "metadata": {
        "colab": {},
        "colab_type": "code",
        "id": "N5zkp928wWf8"
      },
      "outputs": [],
      "source": [
        "path = Path(\"/content/Dataset/Images\")\n",
        "train_set = Path(\"/content/Dataset/Images/train\")\n",
        "test_set = Path(\"/content/Dataset/Images/test\")"
      ]
    },
    {
      "cell_type": "code",
      "execution_count": null,
      "metadata": {
        "colab": {},
        "colab_type": "code",
        "id": "liYdbD0LBYCo"
      },
      "outputs": [],
      "source": [
        "dataset = (ImageList.from_folder(train_set)\n",
        "                                .split_by_rand_pct(0.2)\n",
        "                                .label_from_folder()\n",
        "                                .transform(get_transforms(), size=256)\n",
        "                                .add_test_folder(test_set)).databunch(bs=32).normalize(imagenet_stats)"
      ]
    },
    {
      "cell_type": "code",
      "execution_count": null,
      "metadata": {
        "colab": {
          "base_uri": "https://localhost:8080/",
          "height": 34
        },
        "colab_type": "code",
        "id": "fZrYETD1EPKw",
        "outputId": "01dc6377-3c62-4aa3-d0c4-57ed0f707dcd"
      },
      "outputs": [],
      "source": [
        "dataset.classes"
      ]
    },
    {
      "cell_type": "code",
      "execution_count": null,
      "metadata": {
        "colab": {
          "base_uri": "https://localhost:8080/",
          "height": 873
        },
        "colab_type": "code",
        "id": "jlL9nYjKHHMW",
        "outputId": "ed686dec-9c3d-47fe-ca73-9f78fd515da3"
      },
      "outputs": [],
      "source": [
        "dataset.show_batch(3)"
      ]
    },
    {
      "cell_type": "code",
      "execution_count": null,
      "metadata": {
        "colab": {
          "base_uri": "https://localhost:8080/",
          "height": 51
        },
        "colab_type": "code",
        "id": "46gB2c97Hd3c",
        "outputId": "1186c205-b9a4-4047-a811-8c5098f220d6"
      },
      "outputs": [],
      "source": [
        "learner = cnn_learner(dataset, models.resnet34, metrics=[accuracy,error_rate])"
      ]
    },
    {
      "cell_type": "code",
      "execution_count": null,
      "metadata": {
        "colab": {
          "base_uri": "https://localhost:8080/",
          "height": 80
        },
        "colab_type": "code",
        "id": "OqWiiU0JjUc5",
        "outputId": "dab61990-5a56-462a-8e3b-84a6bd1f554b"
      },
      "outputs": [],
      "source": [
        "learner.fit_one_cycle(1)"
      ]
    },
    {
      "cell_type": "code",
      "execution_count": null,
      "metadata": {
        "colab": {
          "base_uri": "https://localhost:8080/",
          "height": 34
        },
        "colab_type": "code",
        "id": "Se7uxDZ-jc8Y",
        "outputId": "b782c20f-0e91-485a-8540-77219fdbd4af"
      },
      "outputs": [],
      "source": [
        "learner.lr_find()"
      ]
    },
    {
      "cell_type": "code",
      "execution_count": null,
      "metadata": {
        "colab": {
          "base_uri": "https://localhost:8080/",
          "height": 279
        },
        "colab_type": "code",
        "id": "0XfMp9A9kngV",
        "outputId": "7d66664d-172d-4d4d-f2c7-3c56316b195e"
      },
      "outputs": [],
      "source": [
        "learner.recorder.plot()"
      ]
    },
    {
      "cell_type": "code",
      "execution_count": null,
      "metadata": {
        "colab": {
          "base_uri": "https://localhost:8080/",
          "height": 297
        },
        "colab_type": "code",
        "id": "6oC_88Cqkp9M",
        "outputId": "51f3ca33-8e27-4695-892b-0fa730ee06ac"
      },
      "outputs": [],
      "source": [
        "learner.fit_one_cycle(8, slice(0.001))"
      ]
    },
    {
      "cell_type": "code",
      "execution_count": null,
      "metadata": {
        "colab": {},
        "colab_type": "code",
        "id": "m5FACuUtmJNX"
      },
      "outputs": [],
      "source": [
        "learner.save('stage-1')"
      ]
    },
    {
      "cell_type": "code",
      "execution_count": null,
      "metadata": {
        "colab": {
          "base_uri": "https://localhost:8080/",
          "height": 17
        },
        "colab_type": "code",
        "id": "kXo7xLOZMWzj",
        "outputId": "ec38fcb4-7bd6-46a4-8222-86032db46dac"
      },
      "outputs": [],
      "source": [
        "interp = ClassificationInterpretation.from_learner(learner)"
      ]
    },
    {
      "cell_type": "code",
      "execution_count": null,
      "metadata": {
        "colab": {
          "base_uri": "https://localhost:8080/",
          "height": 720
        },
        "colab_type": "code",
        "id": "1fgDudL2MwjP",
        "outputId": "cf8930a1-6ae7-49a8-8f75-3d52b394cece"
      },
      "outputs": [],
      "source": [
        "interp.plot_top_losses(6)"
      ]
    },
    {
      "cell_type": "code",
      "execution_count": null,
      "metadata": {
        "colab": {
          "base_uri": "https://localhost:8080/",
          "height": 1000
        },
        "colab_type": "code",
        "id": "NcfOIqsvNC8L",
        "outputId": "aebfc2c1-dc5e-4644-feb4-e651a44a8bfc"
      },
      "outputs": [],
      "source": [
        "learner.load('stage-1')"
      ]
    },
    {
      "cell_type": "code",
      "execution_count": null,
      "metadata": {
        "colab": {
          "base_uri": "https://localhost:8080/",
          "height": 510
        },
        "colab_type": "code",
        "id": "mGxxk0znR-nw",
        "outputId": "b99cda3d-cd14-44c6-cfdb-e04fc7580e52"
      },
      "outputs": [],
      "source": [
        "interp.most_confused(min_val=1)"
      ]
    },
    {
      "cell_type": "code",
      "execution_count": null,
      "metadata": {
        "colab": {
          "base_uri": "https://localhost:8080/",
          "height": 296
        },
        "colab_type": "code",
        "id": "LtaVDVt9ZeCJ",
        "outputId": "60505c67-4325-4861-8aa8-9dc3c30d1e72"
      },
      "outputs": [],
      "source": [
        "learner.lr_find()\n",
        "learner.recorder.plot()"
      ]
    },
    {
      "cell_type": "code",
      "execution_count": null,
      "metadata": {
        "colab": {
          "base_uri": "https://localhost:8080/",
          "height": 359
        },
        "colab_type": "code",
        "id": "qA8fajtTZv1s",
        "outputId": "cfb038ca-fa0a-452a-c5e8-2cc243c60224"
      },
      "outputs": [],
      "source": [
        "learner.fit_one_cycle(10, slice(1e-04, 1e-03))"
      ]
    },
    {
      "cell_type": "code",
      "execution_count": null,
      "metadata": {
        "colab": {},
        "colab_type": "code",
        "id": "Kr1yTOCCcHrj"
      },
      "outputs": [],
      "source": [
        "learner.save('stage-2');"
      ]
    },
    {
      "cell_type": "code",
      "execution_count": null,
      "metadata": {
        "colab": {
          "base_uri": "https://localhost:8080/",
          "height": 17
        },
        "colab_type": "code",
        "id": "-uGQ4Soyq_1D",
        "outputId": "473dfd86-6219-4362-883a-f057afd11474"
      },
      "outputs": [],
      "source": [
        "interp = ClassificationInterpretation.from_learner(learner)"
      ]
    },
    {
      "cell_type": "code",
      "execution_count": null,
      "metadata": {
        "colab": {
          "base_uri": "https://localhost:8080/",
          "height": 720
        },
        "colab_type": "code",
        "id": "xefO9LrVrG_O",
        "outputId": "94f1a86a-f992-44c6-aa6c-2333ab3ca75f"
      },
      "outputs": [],
      "source": [
        "interp.plot_top_losses(6)"
      ]
    },
    {
      "cell_type": "code",
      "execution_count": null,
      "metadata": {
        "colab": {
          "base_uri": "https://localhost:8080/",
          "height": 323
        },
        "colab_type": "code",
        "id": "YYN3baWWrHyr",
        "outputId": "00defb22-4044-4b4e-fd05-a1485df39555"
      },
      "outputs": [],
      "source": [
        "interp.most_confused(min_val=1)"
      ]
    },
    {
      "cell_type": "code",
      "execution_count": null,
      "metadata": {
        "colab": {
          "base_uri": "https://localhost:8080/",
          "height": 1000
        },
        "colab_type": "code",
        "id": "gocW52NNrOQk",
        "outputId": "af296682-46e4-4d1e-dc5a-13070632ae4b"
      },
      "outputs": [],
      "source": [
        "import os\n",
        "import matplotlib.pyplot as plt\n",
        "import matplotlib.image as mpimg\n",
        "count=0;\n",
        "Dict = {0: 'safe driving', 1: 'texting - right', 2: 'talking on the phone - right', 3: 'texting - left', 4: 'talking on the phone - left', 5: 'operating the radio', 6: 'drinking', 7: 'reaching behind', 8: 'hair and makeup', 9: 'talking to passenger'}\n",
        "for dirname, _, filenames in os.walk('/content/Dataset/Images/test'):\n",
        "  for filename in filenames:\n",
        "    count+=1;\n",
        "    img = open_image(os.path.join(dirname, filename))\n",
        "    pred_class,pred_index,outputs = learner.predict(img)\n",
        "    i = str(pred_class)\n",
        "    print(Dict.get(int(i[1])))\n",
        "    img1=mpimg.imread(os.path.join(dirname, filename))\n",
        "    imgplot = plt.imshow(img1)\n",
        "    plt.show()\n",
        "    if(count>10):\n",
        "        break"
      ]
    },
    {
      "cell_type": "code",
      "execution_count": null,
      "metadata": {
        "colab": {},
        "colab_type": "code",
        "id": "3Sj96DPrsmgy"
      },
      "outputs": [],
      "source": []
    }
  ],
  "metadata": {
    "accelerator": "GPU",
    "colab": {
      "collapsed_sections": [],
      "name": "Distracted_driver_detection.ipynb",
      "provenance": []
    },
    "kernelspec": {
      "display_name": "Python 3",
      "name": "python3"
    }
  },
  "nbformat": 4,
  "nbformat_minor": 0
}

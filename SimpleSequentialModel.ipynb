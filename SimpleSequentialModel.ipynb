{
 "cells": [
  {
   "cell_type": "markdown",
   "metadata": {},
   "source": [
    "## Preprocessing Data"
   ]
  },
  {
   "cell_type": "code",
   "execution_count": 2,
   "metadata": {
    "collapsed": true
   },
   "outputs": [],
   "source": [
    "import numpy as np\n",
    "from random import randint\n",
    "from sklearn.preprocessing import MinMaxScaler"
   ]
  },
  {
   "cell_type": "code",
   "execution_count": 3,
   "metadata": {
    "collapsed": true
   },
   "outputs": [],
   "source": [
    "train_labels =  []\n",
    "train_samples = []"
   ]
  },
  {
   "cell_type": "markdown",
   "metadata": {},
   "source": [
    "Example data: \n",
    "- An experiemental drug was tested on individuals from ages 13 to 100. \n",
    "- The trial had 2100 participants. Half were under 65 years old, half were over 65 years old.\n",
    "- 95% of patientes 65 or older experienced side effects.\n",
    "- 95% of patients under 65 experienced no side effects."
   ]
  },
  {
   "cell_type": "code",
   "execution_count": 4,
   "metadata": {
    "collapsed": false
   },
   "outputs": [],
   "source": [
    "for i in range(50):\n",
    "    # The 5% of younger individuals who did experience side effects\n",
    "    random_younger = randint(13,64)\n",
    "    train_samples.append(random_younger)\n",
    "    train_labels.append(1)\n",
    "    \n",
    "    # The 5% of older individuals who did not experience side effects\n",
    "    random_older = randint(65,100)\n",
    "    train_samples.append(random_older)\n",
    "    train_labels.append(0)\n",
    "\n",
    "for i in range(1000):\n",
    "    # The 95% of younger individuals who did not experience side effects\n",
    "    random_younger = randint(13,64)\n",
    "    train_samples.append(random_younger)\n",
    "    train_labels.append(0)\n",
    "    \n",
    "    # The 95% of older individuals who did experience side effects\n",
    "    random_older = randint(65,100)\n",
    "    train_samples.append(random_older)\n",
    "    train_labels.append(1)"
   ]
  },
  {
   "cell_type": "code",
   "execution_count": 5,
   "metadata": {
    "collapsed": false
   },
   "outputs": [
    {
     "data": {
      "text/plain": [
       "(array([35, 69, 61, ..., 76, 15, 95]), array([1, 0, 1, ..., 1, 0, 1]))"
      ]
     },
     "execution_count": 5,
     "metadata": {},
     "output_type": "execute_result"
    }
   ],
   "source": [
    "train_labels = np.array(train_labels)\n",
    "train_samples = np.array(train_samples)\n",
    "train_samples, train_labels"
   ]
  },
  {
   "cell_type": "code",
   "execution_count": 6,
   "metadata": {
    "collapsed": false
   },
   "outputs": [],
   "source": [
    "scaler = MinMaxScaler(feature_range=(0,1))\n",
    "scaled_train_samples = scaler.fit_transform((train_samples).reshape(-1,1))"
   ]
  },
  {
   "cell_type": "code",
   "execution_count": 7,
   "metadata": {
    "collapsed": false
   },
   "outputs": [
    {
     "data": {
      "text/plain": [
       "array([[0.25287356],\n",
       "       [0.64367816],\n",
       "       [0.55172414],\n",
       "       ...,\n",
       "       [0.72413793],\n",
       "       [0.02298851],\n",
       "       [0.94252874]])"
      ]
     },
     "execution_count": 7,
     "metadata": {},
     "output_type": "execute_result"
    }
   ],
   "source": [
    "scaled_train_samples"
   ]
  },
  {
   "cell_type": "markdown",
   "metadata": {},
   "source": [
    "## Simple Sequential Model\n"
   ]
  },
  {
   "cell_type": "code",
   "execution_count": 8,
   "metadata": {
    "collapsed": false
   },
   "outputs": [
    {
     "name": "stderr",
     "output_type": "stream",
     "text": [
      "2024-04-03 15:24:36.181121: I external/local_tsl/tsl/cuda/cudart_stub.cc:32] Could not find cuda drivers on your machine, GPU will not be used.\n",
      "2024-04-03 15:24:36.186187: I external/local_tsl/tsl/cuda/cudart_stub.cc:32] Could not find cuda drivers on your machine, GPU will not be used.\n",
      "2024-04-03 15:24:36.250220: I tensorflow/core/platform/cpu_feature_guard.cc:210] This TensorFlow binary is optimized to use available CPU instructions in performance-critical operations.\n",
      "To enable the following instructions: AVX2 FMA, in other operations, rebuild TensorFlow with the appropriate compiler flags.\n",
      "2024-04-03 15:24:37.411457: W tensorflow/compiler/tf2tensorrt/utils/py_utils.cc:38] TF-TRT Warning: Could not find TensorRT\n"
     ]
    }
   ],
   "source": [
    "from tensorflow.keras import backend as K\n",
    "from tensorflow.keras.models import Sequential\n",
    "from tensorflow.keras.layers import Activation, Dense\n",
    "from tensorflow.keras.optimizers import Adam\n",
    "from tensorflow.keras.metrics import categorical_crossentropy"
   ]
  },
  {
   "cell_type": "code",
   "execution_count": 9,
   "metadata": {
    "collapsed": false
   },
   "outputs": [
    {
     "name": "stderr",
     "output_type": "stream",
     "text": [
      "/home/genos/code/college/ml/.venv/lib/python3.11/site-packages/keras/src/layers/core/dense.py:88: UserWarning: Do not pass an `input_shape`/`input_dim` argument to a layer. When using Sequential models, prefer using an `Input(shape)` object as the first layer in the model instead.\n",
      "  super().__init__(activity_regularizer=activity_regularizer, **kwargs)\n"
     ]
    },
    {
     "data": {
      "text/html": [
       "<pre style=\"white-space:pre;overflow-x:auto;line-height:normal;font-family:Menlo,'DejaVu Sans Mono',consolas,'Courier New',monospace\"><span style=\"font-weight: bold\">Model: \"sequential\"</span>\n",
       "</pre>\n"
      ],
      "text/plain": [
       "\u001b[1mModel: \"sequential\"\u001b[0m\n"
      ]
     },
     "metadata": {},
     "output_type": "display_data"
    },
    {
     "data": {
      "text/html": [
       "<pre style=\"white-space:pre;overflow-x:auto;line-height:normal;font-family:Menlo,'DejaVu Sans Mono',consolas,'Courier New',monospace\">┏━━━━━━━━━━━━━━━━━━━━━━━━━━━━━━━━━┳━━━━━━━━━━━━━━━━━━━━━━━━┳━━━━━━━━━━━━━━━┓\n",
       "┃<span style=\"font-weight: bold\"> Layer (type)                    </span>┃<span style=\"font-weight: bold\"> Output Shape           </span>┃<span style=\"font-weight: bold\">       Param # </span>┃\n",
       "┡━━━━━━━━━━━━━━━━━━━━━━━━━━━━━━━━━╇━━━━━━━━━━━━━━━━━━━━━━━━╇━━━━━━━━━━━━━━━┩\n",
       "│ dense (<span style=\"color: #0087ff; text-decoration-color: #0087ff\">Dense</span>)                   │ (<span style=\"color: #00d7ff; text-decoration-color: #00d7ff\">None</span>, <span style=\"color: #00af00; text-decoration-color: #00af00\">16</span>)             │            <span style=\"color: #00af00; text-decoration-color: #00af00\">32</span> │\n",
       "├─────────────────────────────────┼────────────────────────┼───────────────┤\n",
       "│ dense_1 (<span style=\"color: #0087ff; text-decoration-color: #0087ff\">Dense</span>)                 │ (<span style=\"color: #00d7ff; text-decoration-color: #00d7ff\">None</span>, <span style=\"color: #00af00; text-decoration-color: #00af00\">32</span>)             │           <span style=\"color: #00af00; text-decoration-color: #00af00\">544</span> │\n",
       "├─────────────────────────────────┼────────────────────────┼───────────────┤\n",
       "│ dense_2 (<span style=\"color: #0087ff; text-decoration-color: #0087ff\">Dense</span>)                 │ (<span style=\"color: #00d7ff; text-decoration-color: #00d7ff\">None</span>, <span style=\"color: #00af00; text-decoration-color: #00af00\">2</span>)              │            <span style=\"color: #00af00; text-decoration-color: #00af00\">66</span> │\n",
       "└─────────────────────────────────┴────────────────────────┴───────────────┘\n",
       "</pre>\n"
      ],
      "text/plain": [
       "┏━━━━━━━━━━━━━━━━━━━━━━━━━━━━━━━━━┳━━━━━━━━━━━━━━━━━━━━━━━━┳━━━━━━━━━━━━━━━┓\n",
       "┃\u001b[1m \u001b[0m\u001b[1mLayer (type)                   \u001b[0m\u001b[1m \u001b[0m┃\u001b[1m \u001b[0m\u001b[1mOutput Shape          \u001b[0m\u001b[1m \u001b[0m┃\u001b[1m \u001b[0m\u001b[1m      Param #\u001b[0m\u001b[1m \u001b[0m┃\n",
       "┡━━━━━━━━━━━━━━━━━━━━━━━━━━━━━━━━━╇━━━━━━━━━━━━━━━━━━━━━━━━╇━━━━━━━━━━━━━━━┩\n",
       "│ dense (\u001b[38;5;33mDense\u001b[0m)                   │ (\u001b[38;5;45mNone\u001b[0m, \u001b[38;5;34m16\u001b[0m)             │            \u001b[38;5;34m32\u001b[0m │\n",
       "├─────────────────────────────────┼────────────────────────┼───────────────┤\n",
       "│ dense_1 (\u001b[38;5;33mDense\u001b[0m)                 │ (\u001b[38;5;45mNone\u001b[0m, \u001b[38;5;34m32\u001b[0m)             │           \u001b[38;5;34m544\u001b[0m │\n",
       "├─────────────────────────────────┼────────────────────────┼───────────────┤\n",
       "│ dense_2 (\u001b[38;5;33mDense\u001b[0m)                 │ (\u001b[38;5;45mNone\u001b[0m, \u001b[38;5;34m2\u001b[0m)              │            \u001b[38;5;34m66\u001b[0m │\n",
       "└─────────────────────────────────┴────────────────────────┴───────────────┘\n"
      ]
     },
     "metadata": {},
     "output_type": "display_data"
    },
    {
     "data": {
      "text/html": [
       "<pre style=\"white-space:pre;overflow-x:auto;line-height:normal;font-family:Menlo,'DejaVu Sans Mono',consolas,'Courier New',monospace\"><span style=\"font-weight: bold\"> Total params: </span><span style=\"color: #00af00; text-decoration-color: #00af00\">642</span> (2.51 KB)\n",
       "</pre>\n"
      ],
      "text/plain": [
       "\u001b[1m Total params: \u001b[0m\u001b[38;5;34m642\u001b[0m (2.51 KB)\n"
      ]
     },
     "metadata": {},
     "output_type": "display_data"
    },
    {
     "data": {
      "text/html": [
       "<pre style=\"white-space:pre;overflow-x:auto;line-height:normal;font-family:Menlo,'DejaVu Sans Mono',consolas,'Courier New',monospace\"><span style=\"font-weight: bold\"> Trainable params: </span><span style=\"color: #00af00; text-decoration-color: #00af00\">642</span> (2.51 KB)\n",
       "</pre>\n"
      ],
      "text/plain": [
       "\u001b[1m Trainable params: \u001b[0m\u001b[38;5;34m642\u001b[0m (2.51 KB)\n"
      ]
     },
     "metadata": {},
     "output_type": "display_data"
    },
    {
     "data": {
      "text/html": [
       "<pre style=\"white-space:pre;overflow-x:auto;line-height:normal;font-family:Menlo,'DejaVu Sans Mono',consolas,'Courier New',monospace\"><span style=\"font-weight: bold\"> Non-trainable params: </span><span style=\"color: #00af00; text-decoration-color: #00af00\">0</span> (0.00 B)\n",
       "</pre>\n"
      ],
      "text/plain": [
       "\u001b[1m Non-trainable params: \u001b[0m\u001b[38;5;34m0\u001b[0m (0.00 B)\n"
      ]
     },
     "metadata": {},
     "output_type": "display_data"
    }
   ],
   "source": [
    "model = Sequential([\n",
    "    Dense(16, input_shape=(1,), activation='relu'),\n",
    "    Dense(32, activation='relu'),\n",
    "    Dense(2, activation='softmax')\n",
    "])\n",
    "\n",
    "model.summary()"
   ]
  },
  {
   "cell_type": "code",
   "execution_count": 10,
   "metadata": {
    "collapsed": false
   },
   "outputs": [
    {
     "name": "stdout",
     "output_type": "stream",
     "text": [
      "Epoch 1/20\n",
      "189/189 - 1s - 6ms/step - accuracy: 0.5667 - loss: 0.6750 - val_accuracy: 0.6143 - val_loss: 0.6621\n",
      "Epoch 2/20\n",
      "189/189 - 0s - 2ms/step - accuracy: 0.6413 - loss: 0.6554 - val_accuracy: 0.7190 - val_loss: 0.6370\n",
      "Epoch 3/20\n",
      "189/189 - 0s - 2ms/step - accuracy: 0.7376 - loss: 0.6300 - val_accuracy: 0.7810 - val_loss: 0.6063\n",
      "Epoch 4/20\n",
      "189/189 - 0s - 2ms/step - accuracy: 0.7704 - loss: 0.6035 - val_accuracy: 0.7952 - val_loss: 0.5748\n",
      "Epoch 5/20\n",
      "189/189 - 0s - 2ms/step - accuracy: 0.7852 - loss: 0.5749 - val_accuracy: 0.8524 - val_loss: 0.5405\n",
      "Epoch 6/20\n",
      "189/189 - 0s - 2ms/step - accuracy: 0.8138 - loss: 0.5442 - val_accuracy: 0.8714 - val_loss: 0.5034\n",
      "Epoch 7/20\n",
      "189/189 - 0s - 2ms/step - accuracy: 0.8413 - loss: 0.5125 - val_accuracy: 0.8762 - val_loss: 0.4656\n",
      "Epoch 8/20\n",
      "189/189 - 0s - 2ms/step - accuracy: 0.8508 - loss: 0.4813 - val_accuracy: 0.9048 - val_loss: 0.4287\n",
      "Epoch 9/20\n",
      "189/189 - 0s - 2ms/step - accuracy: 0.8677 - loss: 0.4516 - val_accuracy: 0.9095 - val_loss: 0.3940\n",
      "Epoch 10/20\n",
      "189/189 - 0s - 2ms/step - accuracy: 0.8772 - loss: 0.4246 - val_accuracy: 0.9286 - val_loss: 0.3627\n",
      "Epoch 11/20\n",
      "189/189 - 0s - 2ms/step - accuracy: 0.8947 - loss: 0.4007 - val_accuracy: 0.9286 - val_loss: 0.3337\n",
      "Epoch 12/20\n",
      "189/189 - 0s - 2ms/step - accuracy: 0.9037 - loss: 0.3803 - val_accuracy: 0.9524 - val_loss: 0.3084\n",
      "Epoch 13/20\n",
      "189/189 - 0s - 2ms/step - accuracy: 0.9085 - loss: 0.3631 - val_accuracy: 0.9524 - val_loss: 0.2868\n",
      "Epoch 14/20\n",
      "189/189 - 0s - 2ms/step - accuracy: 0.9116 - loss: 0.3488 - val_accuracy: 0.9714 - val_loss: 0.2686\n",
      "Epoch 15/20\n",
      "189/189 - 0s - 2ms/step - accuracy: 0.9153 - loss: 0.3368 - val_accuracy: 0.9714 - val_loss: 0.2519\n",
      "Epoch 16/20\n",
      "189/189 - 0s - 2ms/step - accuracy: 0.9138 - loss: 0.3269 - val_accuracy: 0.9810 - val_loss: 0.2386\n",
      "Epoch 17/20\n",
      "189/189 - 0s - 1ms/step - accuracy: 0.9180 - loss: 0.3187 - val_accuracy: 0.9714 - val_loss: 0.2261\n",
      "Epoch 18/20\n",
      "189/189 - 0s - 2ms/step - accuracy: 0.9185 - loss: 0.3118 - val_accuracy: 0.9714 - val_loss: 0.2155\n",
      "Epoch 19/20\n",
      "189/189 - 0s - 2ms/step - accuracy: 0.9169 - loss: 0.3061 - val_accuracy: 0.9810 - val_loss: 0.2064\n",
      "Epoch 20/20\n",
      "189/189 - 0s - 1ms/step - accuracy: 0.9185 - loss: 0.3013 - val_accuracy: 0.9810 - val_loss: 0.1981\n"
     ]
    },
    {
     "data": {
      "text/plain": [
       "<keras.src.callbacks.history.History at 0x7e733f972410>"
      ]
     },
     "execution_count": 10,
     "metadata": {},
     "output_type": "execute_result"
    }
   ],
   "source": [
    "model.compile(Adam(learning_rate=.0001), loss='sparse_categorical_crossentropy', metrics=['accuracy'])\n",
    "model.fit(scaled_train_samples, train_labels, validation_split=0.1,\n",
    "          batch_size=10, epochs=20, shuffle=True, verbose=2)"
   ]
  },
  {
   "cell_type": "markdown",
   "metadata": {},
   "source": [
    "# Save and Load Model"
   ]
  },
  {
   "cell_type": "markdown",
   "metadata": {},
   "source": [
    "## 1. model.save()"
   ]
  },
  {
   "cell_type": "code",
   "execution_count": 11,
   "metadata": {
    "collapsed": true
   },
   "outputs": [],
   "source": [
    "model.save('medical_trial_model.keras')"
   ]
  },
  {
   "cell_type": "markdown",
   "metadata": {},
   "source": [
    "This save functions saves:\n",
    "- The architecture of the model, allowing to re-create the model.\n",
    "- The weights of the model.\n",
    "- The training configuration (loss, optimizer).\n",
    "- The state of the optimizer, allowing to resume training exactly where you left off.\n"
   ]
  },
  {
   "cell_type": "code",
   "execution_count": 12,
   "metadata": {
    "collapsed": true
   },
   "outputs": [
    {
     "data": {
      "text/html": [
       "<pre style=\"white-space:pre;overflow-x:auto;line-height:normal;font-family:Menlo,'DejaVu Sans Mono',consolas,'Courier New',monospace\"><span style=\"font-weight: bold\">Model: \"sequential\"</span>\n",
       "</pre>\n"
      ],
      "text/plain": [
       "\u001b[1mModel: \"sequential\"\u001b[0m\n"
      ]
     },
     "metadata": {},
     "output_type": "display_data"
    },
    {
     "data": {
      "text/html": [
       "<pre style=\"white-space:pre;overflow-x:auto;line-height:normal;font-family:Menlo,'DejaVu Sans Mono',consolas,'Courier New',monospace\">┏━━━━━━━━━━━━━━━━━━━━━━━━━━━━━━━━━┳━━━━━━━━━━━━━━━━━━━━━━━━┳━━━━━━━━━━━━━━━┓\n",
       "┃<span style=\"font-weight: bold\"> Layer (type)                    </span>┃<span style=\"font-weight: bold\"> Output Shape           </span>┃<span style=\"font-weight: bold\">       Param # </span>┃\n",
       "┡━━━━━━━━━━━━━━━━━━━━━━━━━━━━━━━━━╇━━━━━━━━━━━━━━━━━━━━━━━━╇━━━━━━━━━━━━━━━┩\n",
       "│ dense (<span style=\"color: #0087ff; text-decoration-color: #0087ff\">Dense</span>)                   │ (<span style=\"color: #00d7ff; text-decoration-color: #00d7ff\">None</span>, <span style=\"color: #00af00; text-decoration-color: #00af00\">16</span>)             │            <span style=\"color: #00af00; text-decoration-color: #00af00\">32</span> │\n",
       "├─────────────────────────────────┼────────────────────────┼───────────────┤\n",
       "│ dense_1 (<span style=\"color: #0087ff; text-decoration-color: #0087ff\">Dense</span>)                 │ (<span style=\"color: #00d7ff; text-decoration-color: #00d7ff\">None</span>, <span style=\"color: #00af00; text-decoration-color: #00af00\">32</span>)             │           <span style=\"color: #00af00; text-decoration-color: #00af00\">544</span> │\n",
       "├─────────────────────────────────┼────────────────────────┼───────────────┤\n",
       "│ dense_2 (<span style=\"color: #0087ff; text-decoration-color: #0087ff\">Dense</span>)                 │ (<span style=\"color: #00d7ff; text-decoration-color: #00d7ff\">None</span>, <span style=\"color: #00af00; text-decoration-color: #00af00\">2</span>)              │            <span style=\"color: #00af00; text-decoration-color: #00af00\">66</span> │\n",
       "└─────────────────────────────────┴────────────────────────┴───────────────┘\n",
       "</pre>\n"
      ],
      "text/plain": [
       "┏━━━━━━━━━━━━━━━━━━━━━━━━━━━━━━━━━┳━━━━━━━━━━━━━━━━━━━━━━━━┳━━━━━━━━━━━━━━━┓\n",
       "┃\u001b[1m \u001b[0m\u001b[1mLayer (type)                   \u001b[0m\u001b[1m \u001b[0m┃\u001b[1m \u001b[0m\u001b[1mOutput Shape          \u001b[0m\u001b[1m \u001b[0m┃\u001b[1m \u001b[0m\u001b[1m      Param #\u001b[0m\u001b[1m \u001b[0m┃\n",
       "┡━━━━━━━━━━━━━━━━━━━━━━━━━━━━━━━━━╇━━━━━━━━━━━━━━━━━━━━━━━━╇━━━━━━━━━━━━━━━┩\n",
       "│ dense (\u001b[38;5;33mDense\u001b[0m)                   │ (\u001b[38;5;45mNone\u001b[0m, \u001b[38;5;34m16\u001b[0m)             │            \u001b[38;5;34m32\u001b[0m │\n",
       "├─────────────────────────────────┼────────────────────────┼───────────────┤\n",
       "│ dense_1 (\u001b[38;5;33mDense\u001b[0m)                 │ (\u001b[38;5;45mNone\u001b[0m, \u001b[38;5;34m32\u001b[0m)             │           \u001b[38;5;34m544\u001b[0m │\n",
       "├─────────────────────────────────┼────────────────────────┼───────────────┤\n",
       "│ dense_2 (\u001b[38;5;33mDense\u001b[0m)                 │ (\u001b[38;5;45mNone\u001b[0m, \u001b[38;5;34m2\u001b[0m)              │            \u001b[38;5;34m66\u001b[0m │\n",
       "└─────────────────────────────────┴────────────────────────┴───────────────┘\n"
      ]
     },
     "metadata": {},
     "output_type": "display_data"
    },
    {
     "data": {
      "text/html": [
       "<pre style=\"white-space:pre;overflow-x:auto;line-height:normal;font-family:Menlo,'DejaVu Sans Mono',consolas,'Courier New',monospace\"><span style=\"font-weight: bold\"> Total params: </span><span style=\"color: #00af00; text-decoration-color: #00af00\">1,928</span> (7.54 KB)\n",
       "</pre>\n"
      ],
      "text/plain": [
       "\u001b[1m Total params: \u001b[0m\u001b[38;5;34m1,928\u001b[0m (7.54 KB)\n"
      ]
     },
     "metadata": {},
     "output_type": "display_data"
    },
    {
     "data": {
      "text/html": [
       "<pre style=\"white-space:pre;overflow-x:auto;line-height:normal;font-family:Menlo,'DejaVu Sans Mono',consolas,'Courier New',monospace\"><span style=\"font-weight: bold\"> Trainable params: </span><span style=\"color: #00af00; text-decoration-color: #00af00\">642</span> (2.51 KB)\n",
       "</pre>\n"
      ],
      "text/plain": [
       "\u001b[1m Trainable params: \u001b[0m\u001b[38;5;34m642\u001b[0m (2.51 KB)\n"
      ]
     },
     "metadata": {},
     "output_type": "display_data"
    },
    {
     "data": {
      "text/html": [
       "<pre style=\"white-space:pre;overflow-x:auto;line-height:normal;font-family:Menlo,'DejaVu Sans Mono',consolas,'Courier New',monospace\"><span style=\"font-weight: bold\"> Non-trainable params: </span><span style=\"color: #00af00; text-decoration-color: #00af00\">0</span> (0.00 B)\n",
       "</pre>\n"
      ],
      "text/plain": [
       "\u001b[1m Non-trainable params: \u001b[0m\u001b[38;5;34m0\u001b[0m (0.00 B)\n"
      ]
     },
     "metadata": {},
     "output_type": "display_data"
    },
    {
     "data": {
      "text/html": [
       "<pre style=\"white-space:pre;overflow-x:auto;line-height:normal;font-family:Menlo,'DejaVu Sans Mono',consolas,'Courier New',monospace\"><span style=\"font-weight: bold\"> Optimizer params: </span><span style=\"color: #00af00; text-decoration-color: #00af00\">1,286</span> (5.03 KB)\n",
       "</pre>\n"
      ],
      "text/plain": [
       "\u001b[1m Optimizer params: \u001b[0m\u001b[38;5;34m1,286\u001b[0m (5.03 KB)\n"
      ]
     },
     "metadata": {},
     "output_type": "display_data"
    }
   ],
   "source": [
    "from keras.models import load_model\n",
    "new_model = load_model('medical_trial_model.keras')\n",
    "new_model.summary()"
   ]
  },
  {
   "cell_type": "code",
   "execution_count": 13,
   "metadata": {
    "collapsed": false
   },
   "outputs": [
    {
     "data": {
      "text/plain": [
       "[array([[-0.00745533,  0.1206022 ,  0.22083865, -0.29399857,  0.57196546,\n",
       "         -0.5273161 ,  0.29241118, -0.5537504 , -0.35380706,  0.38256806,\n",
       "         -0.4870169 ,  0.46723276, -0.09295036, -0.0850907 , -0.12010357,\n",
       "          0.3090543 ]], dtype=float32),\n",
       " array([ 0.16888946,  0.20681703, -0.058459  ,  0.        , -0.09290871,\n",
       "         0.        , -0.07128625,  0.        ,  0.        , -0.09616246,\n",
       "         0.        , -0.07584461,  0.18939944,  0.        ,  0.        ,\n",
       "        -0.06480773], dtype=float32),\n",
       " array([[ 2.32091565e-02, -2.10137770e-01, -3.06908458e-01,\n",
       "          1.81774572e-01,  1.34640589e-01,  3.07460874e-01,\n",
       "         -1.40255108e-01, -3.15219045e-01, -9.34893936e-02,\n",
       "          5.78302294e-02, -3.07557464e-01,  3.85212064e-01,\n",
       "         -1.10092275e-01,  1.19447052e-01,  2.23231718e-01,\n",
       "         -2.79910654e-01,  1.73483238e-01, -1.89782709e-01,\n",
       "          4.28659171e-02, -2.91573733e-01, -1.28156766e-01,\n",
       "         -1.92094818e-01,  2.63898879e-01,  2.24333063e-01,\n",
       "         -3.14413965e-01,  1.36301398e-01, -2.83417642e-01,\n",
       "          4.30859447e-01,  4.11849111e-01, -1.03037953e-02,\n",
       "         -1.68174431e-01,  4.70600337e-01],\n",
       "        [ 1.69730589e-01, -2.25068301e-01, -9.32662487e-02,\n",
       "          9.91876125e-02,  1.50049359e-01, -1.60536513e-01,\n",
       "          5.10242321e-02, -3.01132053e-01, -1.33390144e-01,\n",
       "          2.05701485e-01,  4.14080173e-01, -5.75823039e-02,\n",
       "          2.82965720e-01,  1.31980762e-01,  5.54019809e-02,\n",
       "          1.27502084e-01,  8.98994431e-02,  2.30629146e-02,\n",
       "          9.71271247e-02,  2.20385581e-01, -3.05362999e-01,\n",
       "          3.65434945e-01,  3.03007215e-01, -2.32041106e-01,\n",
       "         -1.92263976e-01,  3.70242864e-01, -1.08930975e-01,\n",
       "          1.17788780e-02,  2.87207156e-01, -2.88809597e-01,\n",
       "          4.46868688e-01,  1.69976309e-01],\n",
       "        [ 5.59576213e-01, -1.56509623e-01, -3.09470892e-01,\n",
       "          4.53048080e-01, -5.65034389e-01,  1.63474470e-01,\n",
       "          3.04220378e-01,  3.22268039e-01,  5.63694954e-01,\n",
       "         -4.99960840e-01, -5.96689805e-02, -3.01172793e-01,\n",
       "         -3.24756861e-01,  6.03504404e-02,  4.25518245e-01,\n",
       "          5.16184807e-01, -3.53487313e-01, -2.28366703e-01,\n",
       "          4.39310789e-01,  2.48744544e-02,  7.80384243e-02,\n",
       "         -4.75598425e-01, -5.05775928e-01,  5.98080218e-01,\n",
       "          2.75292844e-01,  3.37378472e-01,  2.12708920e-01,\n",
       "          1.39914900e-01, -2.92909622e-01,  2.93217868e-01,\n",
       "         -4.41476434e-01, -5.72888970e-01],\n",
       "        [ 1.15144342e-01,  1.35762930e-01,  3.32923442e-01,\n",
       "          3.69897485e-02, -1.31103083e-01,  1.39529496e-01,\n",
       "         -1.16085991e-01,  3.39803308e-01,  1.48423165e-01,\n",
       "         -1.19591758e-01, -6.06690347e-02, -6.27185702e-02,\n",
       "          2.80467123e-01,  3.16059142e-01, -2.72924006e-01,\n",
       "         -5.08022010e-02, -3.49169940e-01,  2.83484012e-01,\n",
       "          3.46428782e-01, -4.56990600e-02, -3.45587790e-01,\n",
       "          2.61891812e-01,  2.65373081e-01, -1.63381830e-01,\n",
       "          1.49868429e-02, -9.33894217e-02, -2.42905602e-01,\n",
       "          2.36109525e-01, -1.65744245e-01,  2.58417517e-01,\n",
       "         -5.01632690e-02, -9.15813148e-02],\n",
       "        [ 4.23397303e-01,  3.53166312e-01, -2.96874642e-01,\n",
       "          1.91967621e-01, -2.07121477e-01, -3.01172256e-01,\n",
       "          1.21562913e-01, -2.13039160e-01,  3.70613813e-01,\n",
       "         -2.13516921e-01,  3.24370980e-01, -2.05277637e-01,\n",
       "          1.24652930e-01,  3.21108222e-01,  4.47507679e-01,\n",
       "          4.87510383e-01,  7.66885281e-02, -2.68211067e-01,\n",
       "          1.28844589e-01,  3.18377286e-01,  1.85389429e-01,\n",
       "         -1.11589484e-01, -3.81227136e-01,  4.09850091e-01,\n",
       "          2.33819991e-01,  3.81968260e-01, -1.35493264e-01,\n",
       "         -4.01362360e-01,  1.07591242e-01, -2.45480776e-01,\n",
       "         -2.95821697e-01, -1.07893996e-01],\n",
       "        [-1.37001693e-01, -2.81423181e-01, -6.72751367e-02,\n",
       "          2.76000470e-01,  3.00281614e-01,  2.08391458e-01,\n",
       "          5.90335727e-02,  2.17498273e-01,  2.56174535e-01,\n",
       "         -1.88185841e-01, -8.78686607e-02, -3.21036160e-01,\n",
       "          2.62796611e-01,  9.85156298e-02,  1.80337876e-01,\n",
       "          1.14556730e-01, -1.83689877e-01,  9.43344235e-02,\n",
       "          1.98594242e-01,  2.75433928e-01, -2.90754735e-01,\n",
       "          2.95893550e-02,  2.90161043e-01,  2.71491140e-01,\n",
       "          2.69095391e-01, -6.32142723e-02, -9.40703452e-02,\n",
       "          8.13746452e-03,  1.91029757e-01,  2.85193533e-01,\n",
       "          2.72835791e-02, -2.73684502e-01],\n",
       "        [ 4.33450639e-01,  3.47454578e-01,  1.92217380e-01,\n",
       "          4.16855514e-01, -5.71219660e-02, -2.61551201e-01,\n",
       "         -2.96820235e-02,  3.10563177e-01, -2.96955630e-02,\n",
       "         -5.25629759e-01,  1.92248762e-01,  7.30739683e-02,\n",
       "         -1.11122886e-02,  4.12550300e-01,  4.99783605e-01,\n",
       "          4.71923023e-01,  1.36060148e-01,  8.08539093e-02,\n",
       "          4.51906860e-01,  2.87847549e-01,  5.84123135e-02,\n",
       "         -1.32542357e-01, -2.46514887e-01,  3.88436109e-01,\n",
       "         -3.40043217e-01,  1.32278517e-01,  2.30041474e-01,\n",
       "         -2.59466648e-01, -5.34055829e-01, -1.51377574e-01,\n",
       "         -1.04253240e-01, -5.22433162e-01],\n",
       "        [ 2.25515753e-01,  2.62645572e-01,  3.31551522e-01,\n",
       "          1.46348774e-01,  1.96063787e-01,  9.27110910e-02,\n",
       "          1.66114956e-01,  3.07732016e-01, -2.74628401e-03,\n",
       "         -3.00453573e-01, -2.68818915e-01,  1.88196689e-01,\n",
       "          7.44807422e-02,  9.65842307e-02, -1.09053791e-01,\n",
       "         -3.28623444e-01, -1.99536920e-01,  8.49983096e-03,\n",
       "          8.29499960e-03,  1.75697058e-01,  3.33788782e-01,\n",
       "          2.16520637e-01, -1.64426148e-01,  3.25925618e-01,\n",
       "         -2.02039763e-01, -2.43353128e-01, -7.65487552e-03,\n",
       "         -3.05364102e-01, -2.81294465e-01,  8.62774551e-02,\n",
       "         -3.47731709e-02, -1.58530399e-01],\n",
       "        [ 2.96106040e-02, -3.38018477e-01,  1.88528389e-01,\n",
       "         -4.48856354e-02, -2.74076313e-01,  1.69129372e-02,\n",
       "         -1.46556392e-01,  2.11266965e-01, -2.06573591e-01,\n",
       "         -3.63139808e-02,  1.03604287e-01,  1.74159318e-01,\n",
       "          2.66629547e-01,  1.92114919e-01, -1.36934683e-01,\n",
       "         -9.20374095e-02, -6.50098920e-03, -1.60033435e-01,\n",
       "          1.79975122e-01,  1.33966804e-01,  2.24889785e-01,\n",
       "         -1.57387957e-01, -3.06251824e-01,  1.05143994e-01,\n",
       "         -3.16559732e-01,  1.22472584e-01, -2.78131962e-02,\n",
       "         -3.53345275e-01, -1.53660834e-01,  3.04468066e-01,\n",
       "         -2.34998345e-01, -3.27577770e-01],\n",
       "        [ 3.95820439e-01, -1.57702714e-01, -4.15890813e-02,\n",
       "          2.41599664e-01, -1.14058666e-02, -3.21655087e-02,\n",
       "          3.23310234e-02, -2.91489363e-02,  2.36838445e-01,\n",
       "         -1.59785256e-01,  5.57418227e-01, -1.04322441e-01,\n",
       "          9.45343729e-03,  2.00931370e-01,  1.68188229e-01,\n",
       "          5.03270924e-02, -2.26745047e-02, -1.43812716e-01,\n",
       "          7.48938769e-02, -1.66932687e-01, -5.52663207e-02,\n",
       "         -5.07078826e-01, -5.16962647e-01,  4.66892831e-02,\n",
       "          2.99393266e-01,  1.14054605e-01, -2.76466459e-01,\n",
       "         -4.06144500e-01, -5.02089858e-01, -6.96074665e-02,\n",
       "         -1.55587643e-01,  2.09882651e-02],\n",
       "        [-1.03348970e-01, -4.35329676e-02,  6.69945180e-02,\n",
       "          1.68038040e-01,  2.69461066e-01, -2.06964880e-01,\n",
       "          3.37218374e-01,  2.14844346e-02, -7.51864910e-03,\n",
       "          2.83255666e-01, -1.54115349e-01, -4.62331474e-02,\n",
       "         -2.83536345e-01, -2.36928254e-01, -2.05232054e-01,\n",
       "          1.31477773e-01, -1.87162176e-01,  7.05622435e-02,\n",
       "          2.06917197e-01, -7.48835802e-02,  2.44097620e-01,\n",
       "          2.26616114e-01, -1.87551960e-01, -2.66657531e-01,\n",
       "         -1.49360254e-01,  1.54805630e-01,  5.62149584e-02,\n",
       "          1.66154236e-01,  1.05730414e-01, -1.73033178e-02,\n",
       "         -8.70357752e-02, -2.13278562e-01],\n",
       "        [ 4.75407839e-01, -3.24553490e-01,  8.51500332e-02,\n",
       "         -2.64148694e-02,  9.18520913e-02, -1.22412652e-01,\n",
       "         -2.95808017e-01,  9.02738273e-02,  5.57375848e-01,\n",
       "          2.46553551e-02,  2.28975207e-01, -2.49644309e-01,\n",
       "         -3.74730676e-01, -3.06040165e-03,  3.93198073e-01,\n",
       "          3.48916203e-01, -2.98189461e-01, -1.59247309e-01,\n",
       "          5.19717932e-01,  2.06581712e-01, -3.06713730e-01,\n",
       "         -2.20198259e-01,  4.87468354e-02,  3.19959521e-01,\n",
       "         -3.15309495e-01,  4.98315662e-01, -2.26050735e-01,\n",
       "          1.47811964e-01, -3.83191109e-01,  5.99651039e-02,\n",
       "         -3.90489310e-01, -3.32015753e-01],\n",
       "        [-2.69126981e-01,  2.77999371e-01, -4.87555563e-02,\n",
       "          1.67067483e-01,  2.17790335e-01, -2.04415068e-01,\n",
       "         -2.67081618e-01,  8.80052447e-02, -3.41693640e-01,\n",
       "         -2.52844077e-02, -7.02438876e-02,  5.28270185e-01,\n",
       "          1.40589001e-02, -2.01171532e-01, -4.59054310e-04,\n",
       "         -6.15068823e-02, -1.59342363e-01, -2.53894329e-02,\n",
       "         -1.69633746e-01, -1.74861716e-03,  4.59992290e-02,\n",
       "          5.26850939e-01,  4.76832211e-01,  2.48799190e-01,\n",
       "          2.21242517e-01, -1.05904296e-01, -2.86614418e-01,\n",
       "          1.21997125e-01,  1.59939811e-01, -2.93523371e-02,\n",
       "          4.84507859e-01,  5.02630115e-01],\n",
       "        [-1.03944838e-01, -3.14523280e-01, -9.63691175e-02,\n",
       "         -1.69809401e-01, -2.14201912e-01,  3.30159336e-01,\n",
       "          2.36941248e-01,  1.41167581e-01, -1.98247313e-01,\n",
       "         -3.27774167e-01,  2.15003461e-01, -3.23563039e-01,\n",
       "         -3.22748750e-01, -1.96525276e-01, -3.48051041e-01,\n",
       "         -8.22606087e-02,  1.20733529e-01, -1.42194778e-01,\n",
       "          2.88743764e-01,  3.41200083e-01,  3.39863330e-01,\n",
       "          1.66552097e-01, -2.06169486e-01,  8.60227346e-02,\n",
       "          1.24766052e-01, -8.38297307e-02,  2.75328606e-01,\n",
       "          7.07021654e-02, -3.52255344e-01, -1.18733227e-01,\n",
       "          1.01519287e-01,  2.30025858e-01],\n",
       "        [-1.42533645e-01,  5.55989444e-02, -1.04460210e-01,\n",
       "          1.03312045e-01, -3.14843029e-01,  1.21432543e-03,\n",
       "          6.34423792e-02, -9.66551006e-02,  2.18919724e-01,\n",
       "          1.72857612e-01,  1.60707980e-01,  2.76282758e-01,\n",
       "          6.10366464e-02, -3.43921393e-01,  2.15706974e-01,\n",
       "         -1.57523260e-01, -1.88504562e-01, -1.40470475e-01,\n",
       "          3.11220080e-01, -2.28900194e-01, -1.26596391e-02,\n",
       "          5.60142696e-02,  3.35281491e-02,  1.62121445e-01,\n",
       "         -3.29998612e-01,  2.52762884e-01,  1.68033272e-01,\n",
       "          1.41903967e-01,  3.30912858e-01, -2.61901945e-01,\n",
       "          1.59689516e-01,  3.30979973e-01],\n",
       "        [ 4.61158305e-01, -2.55051404e-01,  3.35068554e-01,\n",
       "          4.75293905e-01, -4.49532390e-01,  2.47954383e-01,\n",
       "          1.69559315e-01,  3.62571776e-02,  1.99684188e-01,\n",
       "          1.66977331e-01,  4.87701863e-01, -3.76348674e-01,\n",
       "         -3.60371023e-01,  2.73766249e-01,  5.90918839e-01,\n",
       "         -1.05920203e-01, -7.94459954e-02, -1.80510730e-01,\n",
       "          4.49516892e-01,  1.54164836e-01, -1.49525642e-01,\n",
       "         -6.41017780e-02,  1.04286492e-01, -1.30673870e-02,\n",
       "         -1.86381370e-01,  3.22649360e-01,  2.52212614e-01,\n",
       "         -3.13743383e-01, -4.33617234e-02,  4.55260873e-02,\n",
       "          2.25730147e-02, -3.83973390e-01]], dtype=float32),\n",
       " array([-0.05069014,  0.        ,  0.        , -0.09117477,  0.12776408,\n",
       "        -0.00330925, -0.00452531,  0.        ,  0.01003382,  0.15878336,\n",
       "        -0.05992543,  0.18048553,  0.10528151, -0.04058376, -0.07770526,\n",
       "        -0.02546273, -0.02183091,  0.        , -0.04050003, -0.0227552 ,\n",
       "         0.        ,  0.18615612,  0.15899391, -0.05758192,  0.        ,\n",
       "        -0.09729917,  0.        ,  0.20459324,  0.16357073,  0.        ,\n",
       "         0.18898532,  0.20335844], dtype=float32),\n",
       " array([[ 0.05520698,  0.4408109 ],\n",
       "        [-0.07149222, -0.06481045],\n",
       "        [ 0.35421112, -0.39335135],\n",
       "        [-0.27712238,  0.28410524],\n",
       "        [ 0.37003848, -0.46751618],\n",
       "        [ 0.01222354,  0.22545135],\n",
       "        [ 0.125707  , -0.18171197],\n",
       "        [-0.28780943,  0.02531409],\n",
       "        [-0.42505306,  0.15172236],\n",
       "        [ 0.47499323, -0.6005345 ],\n",
       "        [-0.2305795 ,  0.33828032],\n",
       "        [ 0.5748154 , -0.44088268],\n",
       "        [ 0.03959252, -0.33064908],\n",
       "        [-0.46272144,  0.3777064 ],\n",
       "        [-0.3298267 ,  0.06401324],\n",
       "        [-0.46188766,  0.43414396],\n",
       "        [-0.09380808,  0.3926656 ],\n",
       "        [-0.08922243, -0.08303159],\n",
       "        [-0.41490725,  0.63425714],\n",
       "        [-0.30462277, -0.16873784],\n",
       "        [-0.199559  ,  0.1165745 ],\n",
       "        [ 0.19575895, -0.5171158 ],\n",
       "        [ 0.4555176 , -0.53387606],\n",
       "        [-0.02056503,  0.5685008 ],\n",
       "        [ 0.24646309, -0.10468608],\n",
       "        [-0.38635537,  0.05980678],\n",
       "        [ 0.10253122, -0.25441605],\n",
       "        [ 0.6046286 , -0.23460339],\n",
       "        [ 0.6621753 , -0.31819937],\n",
       "        [ 0.29789028,  0.30261555],\n",
       "        [ 0.27335042, -0.77084637],\n",
       "        [ 0.44217426, -0.25774524]], dtype=float32),\n",
       " array([ 0.08578249, -0.0857825 ], dtype=float32)]"
      ]
     },
     "execution_count": 13,
     "metadata": {},
     "output_type": "execute_result"
    }
   ],
   "source": [
    "new_model.get_weights()"
   ]
  },
  {
   "cell_type": "code",
   "execution_count": 14,
   "metadata": {
    "collapsed": false
   },
   "outputs": [
    {
     "data": {
      "text/plain": [
       "<keras.src.optimizers.adam.Adam at 0x7e733c4f4710>"
      ]
     },
     "execution_count": 14,
     "metadata": {},
     "output_type": "execute_result"
    }
   ],
   "source": [
    "new_model.optimizer"
   ]
  },
  {
   "cell_type": "markdown",
   "metadata": {},
   "source": [
    "## 2. model.to_json()"
   ]
  },
  {
   "cell_type": "markdown",
   "metadata": {},
   "source": [
    "If you only need to save the architecture of a model, and not its weights or its training configuration, you can use the following function to save the architecture only."
   ]
  },
  {
   "cell_type": "code",
   "execution_count": 15,
   "metadata": {
    "collapsed": true
   },
   "outputs": [],
   "source": [
    "json_string = model.to_json() # save as JSON\n",
    "# yaml_string = model.to_yaml() # save as YAML"
   ]
  },
  {
   "cell_type": "code",
   "execution_count": 16,
   "metadata": {
    "collapsed": false
   },
   "outputs": [
    {
     "data": {
      "text/plain": [
       "'{\"module\": \"keras\", \"class_name\": \"Sequential\", \"config\": {\"name\": \"sequential\", \"trainable\": true, \"dtype\": \"float32\", \"layers\": [{\"module\": \"keras.layers\", \"class_name\": \"InputLayer\", \"config\": {\"batch_shape\": [null, 1], \"dtype\": \"float32\", \"sparse\": false, \"name\": \"input_layer\"}, \"registered_name\": null}, {\"module\": \"keras.layers\", \"class_name\": \"Dense\", \"config\": {\"name\": \"dense\", \"trainable\": true, \"dtype\": \"float32\", \"units\": 16, \"activation\": \"relu\", \"use_bias\": true, \"kernel_initializer\": {\"module\": \"keras.initializers\", \"class_name\": \"GlorotUniform\", \"config\": {\"seed\": null}, \"registered_name\": null}, \"bias_initializer\": {\"module\": \"keras.initializers\", \"class_name\": \"Zeros\", \"config\": {}, \"registered_name\": null}, \"kernel_regularizer\": null, \"bias_regularizer\": null, \"kernel_constraint\": null, \"bias_constraint\": null}, \"registered_name\": null, \"build_config\": {\"input_shape\": [null, 1]}}, {\"module\": \"keras.layers\", \"class_name\": \"Dense\", \"config\": {\"name\": \"dense_1\", \"trainable\": true, \"dtype\": \"float32\", \"units\": 32, \"activation\": \"relu\", \"use_bias\": true, \"kernel_initializer\": {\"module\": \"keras.initializers\", \"class_name\": \"GlorotUniform\", \"config\": {\"seed\": null}, \"registered_name\": null}, \"bias_initializer\": {\"module\": \"keras.initializers\", \"class_name\": \"Zeros\", \"config\": {}, \"registered_name\": null}, \"kernel_regularizer\": null, \"bias_regularizer\": null, \"kernel_constraint\": null, \"bias_constraint\": null}, \"registered_name\": null, \"build_config\": {\"input_shape\": [null, 16]}}, {\"module\": \"keras.layers\", \"class_name\": \"Dense\", \"config\": {\"name\": \"dense_2\", \"trainable\": true, \"dtype\": \"float32\", \"units\": 2, \"activation\": \"softmax\", \"use_bias\": true, \"kernel_initializer\": {\"module\": \"keras.initializers\", \"class_name\": \"GlorotUniform\", \"config\": {\"seed\": null}, \"registered_name\": null}, \"bias_initializer\": {\"module\": \"keras.initializers\", \"class_name\": \"Zeros\", \"config\": {}, \"registered_name\": null}, \"kernel_regularizer\": null, \"bias_regularizer\": null, \"kernel_constraint\": null, \"bias_constraint\": null}, \"registered_name\": null, \"build_config\": {\"input_shape\": [null, 32]}}], \"build_input_shape\": [null, 1]}, \"registered_name\": null, \"build_config\": {\"input_shape\": [null, 1]}, \"compile_config\": {\"optimizer\": {\"module\": \"keras.optimizers\", \"class_name\": \"Adam\", \"config\": {\"name\": \"adam\", \"learning_rate\": 9.999999747378752e-05, \"weight_decay\": null, \"clipnorm\": null, \"global_clipnorm\": null, \"clipvalue\": null, \"use_ema\": false, \"ema_momentum\": 0.99, \"ema_overwrite_frequency\": null, \"loss_scale_factor\": null, \"gradient_accumulation_steps\": null, \"beta_1\": 0.9, \"beta_2\": 0.999, \"epsilon\": 1e-07, \"amsgrad\": false}, \"registered_name\": null}, \"loss\": \"sparse_categorical_crossentropy\", \"loss_weights\": null, \"metrics\": [\"accuracy\"], \"weighted_metrics\": null, \"run_eagerly\": false, \"steps_per_execution\": 1, \"jit_compile\": false}}'"
      ]
     },
     "execution_count": 16,
     "metadata": {},
     "output_type": "execute_result"
    }
   ],
   "source": [
    "json_string"
   ]
  },
  {
   "cell_type": "code",
   "execution_count": 17,
   "metadata": {
    "collapsed": true
   },
   "outputs": [
    {
     "data": {
      "text/html": [
       "<pre style=\"white-space:pre;overflow-x:auto;line-height:normal;font-family:Menlo,'DejaVu Sans Mono',consolas,'Courier New',monospace\"><span style=\"font-weight: bold\">Model: \"sequential\"</span>\n",
       "</pre>\n"
      ],
      "text/plain": [
       "\u001b[1mModel: \"sequential\"\u001b[0m\n"
      ]
     },
     "metadata": {},
     "output_type": "display_data"
    },
    {
     "data": {
      "text/html": [
       "<pre style=\"white-space:pre;overflow-x:auto;line-height:normal;font-family:Menlo,'DejaVu Sans Mono',consolas,'Courier New',monospace\">┏━━━━━━━━━━━━━━━━━━━━━━━━━━━━━━━━━┳━━━━━━━━━━━━━━━━━━━━━━━━┳━━━━━━━━━━━━━━━┓\n",
       "┃<span style=\"font-weight: bold\"> Layer (type)                    </span>┃<span style=\"font-weight: bold\"> Output Shape           </span>┃<span style=\"font-weight: bold\">       Param # </span>┃\n",
       "┡━━━━━━━━━━━━━━━━━━━━━━━━━━━━━━━━━╇━━━━━━━━━━━━━━━━━━━━━━━━╇━━━━━━━━━━━━━━━┩\n",
       "│ dense (<span style=\"color: #0087ff; text-decoration-color: #0087ff\">Dense</span>)                   │ (<span style=\"color: #00d7ff; text-decoration-color: #00d7ff\">None</span>, <span style=\"color: #00af00; text-decoration-color: #00af00\">16</span>)             │            <span style=\"color: #00af00; text-decoration-color: #00af00\">32</span> │\n",
       "├─────────────────────────────────┼────────────────────────┼───────────────┤\n",
       "│ dense_1 (<span style=\"color: #0087ff; text-decoration-color: #0087ff\">Dense</span>)                 │ (<span style=\"color: #00d7ff; text-decoration-color: #00d7ff\">None</span>, <span style=\"color: #00af00; text-decoration-color: #00af00\">32</span>)             │           <span style=\"color: #00af00; text-decoration-color: #00af00\">544</span> │\n",
       "├─────────────────────────────────┼────────────────────────┼───────────────┤\n",
       "│ dense_2 (<span style=\"color: #0087ff; text-decoration-color: #0087ff\">Dense</span>)                 │ (<span style=\"color: #00d7ff; text-decoration-color: #00d7ff\">None</span>, <span style=\"color: #00af00; text-decoration-color: #00af00\">2</span>)              │            <span style=\"color: #00af00; text-decoration-color: #00af00\">66</span> │\n",
       "└─────────────────────────────────┴────────────────────────┴───────────────┘\n",
       "</pre>\n"
      ],
      "text/plain": [
       "┏━━━━━━━━━━━━━━━━━━━━━━━━━━━━━━━━━┳━━━━━━━━━━━━━━━━━━━━━━━━┳━━━━━━━━━━━━━━━┓\n",
       "┃\u001b[1m \u001b[0m\u001b[1mLayer (type)                   \u001b[0m\u001b[1m \u001b[0m┃\u001b[1m \u001b[0m\u001b[1mOutput Shape          \u001b[0m\u001b[1m \u001b[0m┃\u001b[1m \u001b[0m\u001b[1m      Param #\u001b[0m\u001b[1m \u001b[0m┃\n",
       "┡━━━━━━━━━━━━━━━━━━━━━━━━━━━━━━━━━╇━━━━━━━━━━━━━━━━━━━━━━━━╇━━━━━━━━━━━━━━━┩\n",
       "│ dense (\u001b[38;5;33mDense\u001b[0m)                   │ (\u001b[38;5;45mNone\u001b[0m, \u001b[38;5;34m16\u001b[0m)             │            \u001b[38;5;34m32\u001b[0m │\n",
       "├─────────────────────────────────┼────────────────────────┼───────────────┤\n",
       "│ dense_1 (\u001b[38;5;33mDense\u001b[0m)                 │ (\u001b[38;5;45mNone\u001b[0m, \u001b[38;5;34m32\u001b[0m)             │           \u001b[38;5;34m544\u001b[0m │\n",
       "├─────────────────────────────────┼────────────────────────┼───────────────┤\n",
       "│ dense_2 (\u001b[38;5;33mDense\u001b[0m)                 │ (\u001b[38;5;45mNone\u001b[0m, \u001b[38;5;34m2\u001b[0m)              │            \u001b[38;5;34m66\u001b[0m │\n",
       "└─────────────────────────────────┴────────────────────────┴───────────────┘\n"
      ]
     },
     "metadata": {},
     "output_type": "display_data"
    },
    {
     "data": {
      "text/html": [
       "<pre style=\"white-space:pre;overflow-x:auto;line-height:normal;font-family:Menlo,'DejaVu Sans Mono',consolas,'Courier New',monospace\"><span style=\"font-weight: bold\"> Total params: </span><span style=\"color: #00af00; text-decoration-color: #00af00\">1,928</span> (7.54 KB)\n",
       "</pre>\n"
      ],
      "text/plain": [
       "\u001b[1m Total params: \u001b[0m\u001b[38;5;34m1,928\u001b[0m (7.54 KB)\n"
      ]
     },
     "metadata": {},
     "output_type": "display_data"
    },
    {
     "data": {
      "text/html": [
       "<pre style=\"white-space:pre;overflow-x:auto;line-height:normal;font-family:Menlo,'DejaVu Sans Mono',consolas,'Courier New',monospace\"><span style=\"font-weight: bold\"> Trainable params: </span><span style=\"color: #00af00; text-decoration-color: #00af00\">642</span> (2.51 KB)\n",
       "</pre>\n"
      ],
      "text/plain": [
       "\u001b[1m Trainable params: \u001b[0m\u001b[38;5;34m642\u001b[0m (2.51 KB)\n"
      ]
     },
     "metadata": {},
     "output_type": "display_data"
    },
    {
     "data": {
      "text/html": [
       "<pre style=\"white-space:pre;overflow-x:auto;line-height:normal;font-family:Menlo,'DejaVu Sans Mono',consolas,'Courier New',monospace\"><span style=\"font-weight: bold\"> Non-trainable params: </span><span style=\"color: #00af00; text-decoration-color: #00af00\">0</span> (0.00 B)\n",
       "</pre>\n"
      ],
      "text/plain": [
       "\u001b[1m Non-trainable params: \u001b[0m\u001b[38;5;34m0\u001b[0m (0.00 B)\n"
      ]
     },
     "metadata": {},
     "output_type": "display_data"
    },
    {
     "data": {
      "text/html": [
       "<pre style=\"white-space:pre;overflow-x:auto;line-height:normal;font-family:Menlo,'DejaVu Sans Mono',consolas,'Courier New',monospace\"><span style=\"font-weight: bold\"> Optimizer params: </span><span style=\"color: #00af00; text-decoration-color: #00af00\">1,286</span> (5.03 KB)\n",
       "</pre>\n"
      ],
      "text/plain": [
       "\u001b[1m Optimizer params: \u001b[0m\u001b[38;5;34m1,286\u001b[0m (5.03 KB)\n"
      ]
     },
     "metadata": {},
     "output_type": "display_data"
    }
   ],
   "source": [
    "# model reconstruction from JSON:\n",
    "from keras.models import model_from_json\n",
    "model_architecture = model_from_json(json_string)\n",
    "\n",
    "# model reconstruction from YAML\n",
    "# from keras.models import model_from_yaml\n",
    "# model = model_from_yaml(yaml_string)\n",
    "model_architecture.summary()"
   ]
  },
  {
   "cell_type": "markdown",
   "metadata": {},
   "source": [
    "## 3. model.save_weights()"
   ]
  },
  {
   "cell_type": "markdown",
   "metadata": {},
   "source": [
    "If you only need to save the weights of a model, you can use the following function save the weights only."
   ]
  },
  {
   "cell_type": "code",
   "execution_count": 18,
   "metadata": {
    "collapsed": true
   },
   "outputs": [],
   "source": [
    "model.save_weights('my_model.weights.h5')"
   ]
  },
  {
   "cell_type": "code",
   "execution_count": 19,
   "metadata": {
    "collapsed": true
   },
   "outputs": [],
   "source": [
    "model2 = Sequential([\n",
    "    Dense(16, input_shape=(1,), activation='relu'),\n",
    "    Dense(32, activation='relu'),\n",
    "    Dense(2, activation='softmax')\n",
    "])"
   ]
  },
  {
   "cell_type": "code",
   "execution_count": 20,
   "metadata": {
    "collapsed": true
   },
   "outputs": [],
   "source": [
    "model2.load_weights('my_model.weights.h5')"
   ]
  },
  {
   "cell_type": "markdown",
   "metadata": {
    "collapsed": true
   },
   "source": [
    "## Preprocess Test Data"
   ]
  },
  {
   "cell_type": "code",
   "execution_count": 21,
   "metadata": {
    "collapsed": true
   },
   "outputs": [],
   "source": [
    "test_labels =  []\n",
    "test_samples = []"
   ]
  },
  {
   "cell_type": "code",
   "execution_count": 22,
   "metadata": {
    "collapsed": false
   },
   "outputs": [],
   "source": [
    "for i in range(10):\n",
    "    # The 5% of younger individuals who did experience side effects\n",
    "    random_younger = randint(13,64)\n",
    "    test_samples.append(random_younger)\n",
    "    test_labels.append(1)\n",
    "    \n",
    "    # The 5% of older individuals who did not experience side effects\n",
    "    random_older = randint(65,100)\n",
    "    test_samples.append(random_older)\n",
    "    test_labels.append(0)\n",
    "\n",
    "for i in range(200):\n",
    "    # The 95% of younger individuals who did not experience side effects\n",
    "    random_younger = randint(13,64)\n",
    "    test_samples.append(random_younger)\n",
    "    test_labels.append(0)\n",
    "    \n",
    "    # The 95% of older individuals who did experience side effects\n",
    "    random_older = randint(65,100)\n",
    "    test_samples.append(random_older)\n",
    "    test_labels.append(1)"
   ]
  },
  {
   "cell_type": "code",
   "execution_count": 23,
   "metadata": {
    "collapsed": true
   },
   "outputs": [],
   "source": [
    "test_labels = np.array(test_labels)\n",
    "test_samples = np.array(test_samples)"
   ]
  },
  {
   "cell_type": "code",
   "execution_count": 24,
   "metadata": {
    "collapsed": false
   },
   "outputs": [],
   "source": [
    "scaler = MinMaxScaler(feature_range=(0,1))\n",
    "scaled_test_samples = scaler.fit_transform((test_samples).reshape(-1,1))"
   ]
  },
  {
   "cell_type": "markdown",
   "metadata": {
    "collapsed": true
   },
   "source": [
    "## Predict"
   ]
  },
  {
   "cell_type": "code",
   "execution_count": 25,
   "metadata": {
    "collapsed": false
   },
   "outputs": [],
   "source": [
    "predictions = model.predict(scaled_test_samples, batch_size=10, verbose=0) "
   ]
  },
  {
   "cell_type": "code",
   "execution_count": 26,
   "metadata": {
    "collapsed": false
   },
   "outputs": [
    {
     "data": {
      "text/plain": [
       "array([[0.9317879 , 0.06821204],\n",
       "       [0.2414492 , 0.75855076],\n",
       "       [0.8842554 , 0.11574464],\n",
       "       [0.1257272 , 0.87427276],\n",
       "       [0.90231985, 0.09768017],\n",
       "       [0.20695437, 0.7930455 ],\n",
       "       [0.87369627, 0.12630367],\n",
       "       [0.19112788, 0.8088721 ],\n",
       "       [0.837003  , 0.162997  ],\n",
       "       [0.0707525 , 0.9292475 ],\n",
       "       [0.6987954 , 0.30120462],\n",
       "       [0.09645706, 0.90354294],\n",
       "       [0.9415176 , 0.05848238],\n",
       "       [0.05021027, 0.9497897 ],\n",
       "       [0.8936874 , 0.10631257],\n",
       "       [0.22372901, 0.77627105],\n",
       "       [0.94137204, 0.05862795],\n",
       "       [0.10546644, 0.8945336 ],\n",
       "       [0.94151765, 0.05848238],\n",
       "       [0.10546643, 0.8945335 ],\n",
       "       [0.94139624, 0.05860367],\n",
       "       [0.04326528, 0.9567347 ],\n",
       "       [0.94132346, 0.05867655],\n",
       "       [0.0707525 , 0.92924744],\n",
       "       [0.8936874 , 0.10631257],\n",
       "       [0.04116121, 0.95883876],\n",
       "       [0.6774882 , 0.32251182],\n",
       "       [0.03915525, 0.9608447 ],\n",
       "       [0.9103217 , 0.08967834],\n",
       "       [0.07504562, 0.92495435],\n",
       "       [0.9337846 , 0.06621535],\n",
       "       [0.04547184, 0.95452815],\n",
       "       [0.511758  , 0.48824194],\n",
       "       [0.05275147, 0.9472486 ],\n",
       "       [0.9414691 , 0.05853086],\n",
       "       [0.16228412, 0.8377159 ],\n",
       "       [0.80806166, 0.19193837],\n",
       "       [0.19112788, 0.8088721 ],\n",
       "       [0.92419773, 0.07580227],\n",
       "       [0.1257272 , 0.87427276],\n",
       "       [0.511758  , 0.48824194],\n",
       "       [0.13705575, 0.8629442 ],\n",
       "       [0.9414206 , 0.05857939],\n",
       "       [0.08114146, 0.9188585 ],\n",
       "       [0.92419773, 0.07580227],\n",
       "       [0.27966607, 0.720334  ],\n",
       "       [0.6774882 , 0.32251182],\n",
       "       [0.32136914, 0.6786308 ],\n",
       "       [0.9381555 , 0.06184454],\n",
       "       [0.1622841 , 0.83771586],\n",
       "       [0.83700293, 0.162997  ],\n",
       "       [0.06737603, 0.9326239 ],\n",
       "       [0.87369627, 0.12630367],\n",
       "       [0.08824214, 0.9117578 ],\n",
       "       [0.93934685, 0.06065312],\n",
       "       [0.16228412, 0.8377159 ],\n",
       "       [0.94134766, 0.05865224],\n",
       "       [0.05275147, 0.9472486 ],\n",
       "       [0.9103217 , 0.08967834],\n",
       "       [0.06737603, 0.93262404],\n",
       "       [0.46217465, 0.53782535],\n",
       "       [0.3661302 , 0.6338698 ],\n",
       "       [0.9103217 , 0.08967834],\n",
       "       [0.05275147, 0.9472486 ],\n",
       "       [0.91772765, 0.08227226],\n",
       "       [0.26010278, 0.73989725],\n",
       "       [0.9414206 , 0.05857939],\n",
       "       [0.0707525 , 0.92924744],\n",
       "       [0.6092842 , 0.39071578],\n",
       "       [0.06417803, 0.93582195],\n",
       "       [0.94139624, 0.05860367],\n",
       "       [0.07504562, 0.9249543 ],\n",
       "       [0.8936874 , 0.10631257],\n",
       "       [0.07504562, 0.9249543 ],\n",
       "       [0.6774882 , 0.32251182],\n",
       "       [0.0477853 , 0.9522148 ],\n",
       "       [0.91772765, 0.08227226],\n",
       "       [0.05275147, 0.9472486 ],\n",
       "       [0.94151765, 0.05848238],\n",
       "       [0.0707525 , 0.9292475 ],\n",
       "       [0.8229962 , 0.17700389],\n",
       "       [0.19112788, 0.8088721 ],\n",
       "       [0.7753606 , 0.22463939],\n",
       "       [0.05541379, 0.94458616],\n",
       "       [0.511758  , 0.48824194],\n",
       "       [0.1257272 , 0.87427276],\n",
       "       [0.5365241 , 0.46347597],\n",
       "       [0.41332838, 0.5866716 ],\n",
       "       [0.53652406, 0.4634759 ],\n",
       "       [0.07504562, 0.92495435],\n",
       "       [0.9317879 , 0.06821204],\n",
       "       [0.1257272 , 0.87427276],\n",
       "       [0.90231985, 0.09768017],\n",
       "       [0.11520998, 0.88479   ],\n",
       "       [0.9414206 , 0.05857939],\n",
       "       [0.07504562, 0.9249543 ],\n",
       "       [0.83700293, 0.162997  ],\n",
       "       [0.0707525 , 0.92924744],\n",
       "       [0.87369627, 0.12630367],\n",
       "       [0.06737603, 0.93262404],\n",
       "       [0.7388886 , 0.26111138],\n",
       "       [0.26010278, 0.73989725],\n",
       "       [0.48693413, 0.5130659 ],\n",
       "       [0.27966607, 0.720334  ],\n",
       "       [0.9369423 , 0.0630578 ],\n",
       "       [0.30010402, 0.6998959 ],\n",
       "       [0.5611111 , 0.4388889 ],\n",
       "       [0.3661302 , 0.6338698 ],\n",
       "       [0.9412991 , 0.05870088],\n",
       "       [0.4133284 , 0.5866716 ],\n",
       "       [0.94137204, 0.05862795],\n",
       "       [0.05541379, 0.94458616],\n",
       "       [0.9414449 , 0.05855512],\n",
       "       [0.26010278, 0.73989725],\n",
       "       [0.9103217 , 0.08967834],\n",
       "       [0.05021027, 0.9497897 ],\n",
       "       [0.9414449 , 0.05855512],\n",
       "       [0.20695437, 0.7930455 ],\n",
       "       [0.5854018 , 0.4145982 ],\n",
       "       [0.14923087, 0.8507691 ],\n",
       "       [0.91772765, 0.08227226],\n",
       "       [0.26010278, 0.73989725],\n",
       "       [0.83700293, 0.162997  ],\n",
       "       [0.13705575, 0.8629442 ],\n",
       "       [0.5365241 , 0.46347597],\n",
       "       [0.04326528, 0.9567347 ],\n",
       "       [0.9415903 , 0.05840972],\n",
       "       [0.41332838, 0.5866716 ],\n",
       "       [0.9414449 , 0.05855512],\n",
       "       [0.30010405, 0.699896  ],\n",
       "       [0.9369423 , 0.0630578 ],\n",
       "       [0.09645706, 0.90354294],\n",
       "       [0.9414691 , 0.05853086],\n",
       "       [0.30010402, 0.6998959 ],\n",
       "       [0.511758  , 0.48824194],\n",
       "       [0.1257272 , 0.87427276],\n",
       "       [0.9415903 , 0.05840972],\n",
       "       [0.11520998, 0.88479   ],\n",
       "       [0.92896605, 0.07103393],\n",
       "       [0.04326528, 0.9567347 ],\n",
       "       [0.60928416, 0.39071575],\n",
       "       [0.34340185, 0.65659815],\n",
       "       [0.92419773, 0.07580227],\n",
       "       [0.38947037, 0.61052966],\n",
       "       [0.79218525, 0.20781478],\n",
       "       [0.2414492 , 0.75855076],\n",
       "       [0.9414691 , 0.05853086],\n",
       "       [0.08114146, 0.9188585 ],\n",
       "       [0.53652406, 0.4634759 ],\n",
       "       [0.38947037, 0.6105296 ],\n",
       "       [0.9416387 , 0.05836133],\n",
       "       [0.08114146, 0.9188585 ],\n",
       "       [0.90231985, 0.09768017],\n",
       "       [0.26010278, 0.73989725],\n",
       "       [0.43760026, 0.5623998 ],\n",
       "       [0.03915525, 0.9608447 ],\n",
       "       [0.87369627, 0.12630367],\n",
       "       [0.10546644, 0.8945336 ],\n",
       "       [0.837003  , 0.162997  ],\n",
       "       [0.08824214, 0.9117578 ],\n",
       "       [0.93815553, 0.06184454],\n",
       "       [0.17624266, 0.82375735],\n",
       "       [0.80806166, 0.19193837],\n",
       "       [0.04547184, 0.95452815],\n",
       "       [0.6554169 , 0.34458303],\n",
       "       [0.11520998, 0.88479   ],\n",
       "       [0.75759083, 0.24240926],\n",
       "       [0.05275147, 0.9472486 ],\n",
       "       [0.9412991 , 0.05870088],\n",
       "       [0.05275147, 0.9472486 ],\n",
       "       [0.94161445, 0.0583855 ],\n",
       "       [0.05541379, 0.94458616],\n",
       "       [0.5854018 , 0.4145982 ],\n",
       "       [0.08824214, 0.9117578 ],\n",
       "       [0.7753606 , 0.22463939],\n",
       "       [0.08114146, 0.9188585 ],\n",
       "       [0.8842554 , 0.11574464],\n",
       "       [0.34340185, 0.65659815],\n",
       "       [0.86232394, 0.13767606],\n",
       "       [0.08114146, 0.9188585 ],\n",
       "       [0.9103217 , 0.08967834],\n",
       "       [0.26010278, 0.73989725],\n",
       "       [0.93815553, 0.06184454],\n",
       "       [0.04547184, 0.95452815],\n",
       "       [0.91772765, 0.08227226],\n",
       "       [0.22372901, 0.77627105],\n",
       "       [0.48693413, 0.5130659 ],\n",
       "       [0.34340185, 0.65659815],\n",
       "       [0.65541697, 0.34458306],\n",
       "       [0.0707525 , 0.9292475 ],\n",
       "       [0.94134766, 0.05865224],\n",
       "       [0.17624266, 0.82375735],\n",
       "       [0.9416387 , 0.05836133],\n",
       "       [0.04326528, 0.9567347 ],\n",
       "       [0.91772765, 0.08227226],\n",
       "       [0.05541379, 0.94458616],\n",
       "       [0.9103217 , 0.08967834],\n",
       "       [0.32136914, 0.6786308 ],\n",
       "       [0.82299614, 0.17700388],\n",
       "       [0.05820223, 0.9417978 ],\n",
       "       [0.7192782 , 0.28072178],\n",
       "       [0.3661302 , 0.6338698 ],\n",
       "       [0.9414691 , 0.05853086],\n",
       "       [0.10546644, 0.8945336 ],\n",
       "       [0.7753606 , 0.22463939],\n",
       "       [0.04326528, 0.9567347 ],\n",
       "       [0.86232394, 0.13767606],\n",
       "       [0.38947037, 0.61052966],\n",
       "       [0.9381555 , 0.06184454],\n",
       "       [0.07504562, 0.92495435],\n",
       "       [0.6987954 , 0.30120462],\n",
       "       [0.26010278, 0.73989725],\n",
       "       [0.9415903 , 0.05840972],\n",
       "       [0.20695437, 0.7930455 ],\n",
       "       [0.92419773, 0.07580227],\n",
       "       [0.14923087, 0.8507691 ],\n",
       "       [0.92419773, 0.07580227],\n",
       "       [0.13705575, 0.8629442 ],\n",
       "       [0.92896605, 0.07103393],\n",
       "       [0.03915525, 0.96084476],\n",
       "       [0.6554169 , 0.34458303],\n",
       "       [0.04547184, 0.95452815],\n",
       "       [0.9415903 , 0.05840972],\n",
       "       [0.3661302 , 0.6338698 ],\n",
       "       [0.8936874 , 0.10631257],\n",
       "       [0.26010278, 0.73989725],\n",
       "       [0.43760026, 0.5623998 ],\n",
       "       [0.08824214, 0.9117578 ],\n",
       "       [0.92419773, 0.07580227],\n",
       "       [0.34340185, 0.65659815],\n",
       "       [0.43760026, 0.5623998 ],\n",
       "       [0.06417803, 0.93582195],\n",
       "       [0.9415418 , 0.05845815],\n",
       "       [0.06737603, 0.9326239 ],\n",
       "       [0.6987954 , 0.30120462],\n",
       "       [0.08824214, 0.9117578 ],\n",
       "       [0.79218525, 0.20781478],\n",
       "       [0.06417803, 0.93582195],\n",
       "       [0.82299614, 0.17700388],\n",
       "       [0.06737603, 0.93262404],\n",
       "       [0.9414449 , 0.05855512],\n",
       "       [0.09645706, 0.90354294],\n",
       "       [0.5611111 , 0.4388889 ],\n",
       "       [0.08824214, 0.9117578 ],\n",
       "       [0.87369627, 0.12630367],\n",
       "       [0.3661302 , 0.6338698 ],\n",
       "       [0.9103217 , 0.08967834],\n",
       "       [0.10546644, 0.8945336 ],\n",
       "       [0.8936874 , 0.10631257],\n",
       "       [0.19112788, 0.8088721 ],\n",
       "       [0.5365241 , 0.46347597],\n",
       "       [0.05541379, 0.94458616],\n",
       "       [0.46217465, 0.53782535],\n",
       "       [0.41332838, 0.5866716 ],\n",
       "       [0.8229962 , 0.17700389],\n",
       "       [0.26010278, 0.73989725],\n",
       "       [0.80806166, 0.19193837],\n",
       "       [0.22372901, 0.77627105],\n",
       "       [0.79218525, 0.20781478],\n",
       "       [0.0707525 , 0.9292475 ],\n",
       "       [0.46217465, 0.53782535],\n",
       "       [0.08114146, 0.9188585 ],\n",
       "       [0.93815553, 0.06184454],\n",
       "       [0.22372901, 0.77627105],\n",
       "       [0.7753606 , 0.22463939],\n",
       "       [0.19112788, 0.8088721 ],\n",
       "       [0.9317879 , 0.06821204],\n",
       "       [0.06737603, 0.9326239 ],\n",
       "       [0.53652406, 0.4634759 ],\n",
       "       [0.09645706, 0.90354294],\n",
       "       [0.80806166, 0.19193837],\n",
       "       [0.27966607, 0.720334  ],\n",
       "       [0.6987954 , 0.30120462],\n",
       "       [0.06112188, 0.9388782 ],\n",
       "       [0.9354882 , 0.06451178],\n",
       "       [0.0707525 , 0.92924744],\n",
       "       [0.94134766, 0.05865224],\n",
       "       [0.13705575, 0.8629442 ],\n",
       "       [0.77536064, 0.2246394 ],\n",
       "       [0.14923087, 0.8507691 ],\n",
       "       [0.86232394, 0.13767606],\n",
       "       [0.11520998, 0.88479   ],\n",
       "       [0.7753606 , 0.22463939],\n",
       "       [0.1257272 , 0.87427276],\n",
       "       [0.6987954 , 0.30120462],\n",
       "       [0.2414492 , 0.75855076],\n",
       "       [0.93934685, 0.06065312],\n",
       "       [0.03915525, 0.9608447 ],\n",
       "       [0.92896605, 0.07103393],\n",
       "       [0.38947037, 0.6105296 ],\n",
       "       [0.5611111 , 0.4388889 ],\n",
       "       [0.13705575, 0.8629442 ],\n",
       "       [0.94129896, 0.05870087],\n",
       "       [0.14923087, 0.8507691 ],\n",
       "       [0.7753606 , 0.22463939],\n",
       "       [0.14923087, 0.8507691 ],\n",
       "       [0.9414449 , 0.05855512],\n",
       "       [0.06417803, 0.93582195],\n",
       "       [0.77536064, 0.2246394 ],\n",
       "       [0.08114146, 0.9188585 ],\n",
       "       [0.7192782 , 0.28072178],\n",
       "       [0.05820223, 0.9417978 ],\n",
       "       [0.94041646, 0.05958354],\n",
       "       [0.05541379, 0.94458616],\n",
       "       [0.7388886 , 0.26111138],\n",
       "       [0.13705575, 0.8629442 ],\n",
       "       [0.60928416, 0.39071575],\n",
       "       [0.05541379, 0.94458616],\n",
       "       [0.93934685, 0.06065312],\n",
       "       [0.05541379, 0.94458616],\n",
       "       [0.92419773, 0.07580227],\n",
       "       [0.07504562, 0.9249543 ],\n",
       "       [0.6987954 , 0.30120462],\n",
       "       [0.04547184, 0.95452815],\n",
       "       [0.9414691 , 0.05853086],\n",
       "       [0.05820223, 0.9417978 ],\n",
       "       [0.80806166, 0.19193837],\n",
       "       [0.19112788, 0.8088721 ],\n",
       "       [0.511758  , 0.48824194],\n",
       "       [0.34340185, 0.65659815],\n",
       "       [0.8842554 , 0.11574464],\n",
       "       [0.34340185, 0.65659815],\n",
       "       [0.94156605, 0.05843393],\n",
       "       [0.05541379, 0.94458616],\n",
       "       [0.94129896, 0.05870087],\n",
       "       [0.1257272 , 0.87427276],\n",
       "       [0.9415176 , 0.05848238],\n",
       "       [0.16228412, 0.8377159 ],\n",
       "       [0.94132346, 0.05867655],\n",
       "       [0.03915525, 0.96084476],\n",
       "       [0.7753606 , 0.22463939],\n",
       "       [0.04116121, 0.95883876],\n",
       "       [0.9415903 , 0.05840972],\n",
       "       [0.08114146, 0.9188585 ],\n",
       "       [0.9369423 , 0.0630578 ],\n",
       "       [0.08114146, 0.9188585 ],\n",
       "       [0.8936874 , 0.10631257],\n",
       "       [0.16228412, 0.8377159 ],\n",
       "       [0.511758  , 0.48824194],\n",
       "       [0.06112188, 0.9388782 ],\n",
       "       [0.79218525, 0.20781478],\n",
       "       [0.0477853 , 0.9522148 ],\n",
       "       [0.92896605, 0.07103393],\n",
       "       [0.0707525 , 0.92924744],\n",
       "       [0.94134766, 0.05865224],\n",
       "       [0.04326528, 0.9567347 ],\n",
       "       [0.8936874 , 0.10631257],\n",
       "       [0.16228412, 0.8377159 ],\n",
       "       [0.94142056, 0.05857939],\n",
       "       [0.19112788, 0.8088721 ],\n",
       "       [0.94139624, 0.05860367],\n",
       "       [0.20695437, 0.7930455 ],\n",
       "       [0.75759083, 0.24240926],\n",
       "       [0.04116121, 0.95883876],\n",
       "       [0.94161445, 0.0583855 ],\n",
       "       [0.34340185, 0.65659815],\n",
       "       [0.46217465, 0.53782535],\n",
       "       [0.07504562, 0.9249543 ],\n",
       "       [0.92896605, 0.07103393],\n",
       "       [0.11520998, 0.88479   ],\n",
       "       [0.94156605, 0.05843393],\n",
       "       [0.05820223, 0.9417978 ],\n",
       "       [0.511758  , 0.48824194],\n",
       "       [0.08824214, 0.9117578 ],\n",
       "       [0.94156605, 0.05843393],\n",
       "       [0.05021027, 0.9497897 ],\n",
       "       [0.94041646, 0.05958354],\n",
       "       [0.05820223, 0.9417978 ],\n",
       "       [0.92419773, 0.07580227],\n",
       "       [0.09645706, 0.90354294],\n",
       "       [0.93934685, 0.06065312],\n",
       "       [0.14923087, 0.8507691 ],\n",
       "       [0.83700293, 0.162997  ],\n",
       "       [0.38947037, 0.61052966],\n",
       "       [0.93815553, 0.06184454],\n",
       "       [0.22372901, 0.77627105],\n",
       "       [0.8842554 , 0.11574464],\n",
       "       [0.41332838, 0.5866716 ],\n",
       "       [0.94142056, 0.05857939],\n",
       "       [0.06417803, 0.93582195],\n",
       "       [0.43760026, 0.5623998 ],\n",
       "       [0.08114146, 0.9188585 ],\n",
       "       [0.48693413, 0.5130659 ],\n",
       "       [0.05541379, 0.94458616],\n",
       "       [0.7388886 , 0.26111138],\n",
       "       [0.11520998, 0.88479   ],\n",
       "       [0.6987954 , 0.30120462],\n",
       "       [0.20695437, 0.7930455 ],\n",
       "       [0.9416387 , 0.05836133],\n",
       "       [0.1257272 , 0.87427276],\n",
       "       [0.94156605, 0.05843393],\n",
       "       [0.27966607, 0.720334  ],\n",
       "       [0.8936874 , 0.10631257],\n",
       "       [0.04116121, 0.95883876],\n",
       "       [0.86232394, 0.13767606],\n",
       "       [0.05275147, 0.9472486 ],\n",
       "       [0.46217465, 0.53782535],\n",
       "       [0.06737603, 0.9326239 ],\n",
       "       [0.93378466, 0.06621536],\n",
       "       [0.04547184, 0.95452815],\n",
       "       [0.46217465, 0.53782535],\n",
       "       [0.05541379, 0.94458616],\n",
       "       [0.7753606 , 0.22463939],\n",
       "       [0.07504562, 0.9249543 ],\n",
       "       [0.8936874 , 0.10631257],\n",
       "       [0.09645706, 0.90354294],\n",
       "       [0.94161445, 0.0583855 ],\n",
       "       [0.17624266, 0.82375735],\n",
       "       [0.9413478 , 0.05865225],\n",
       "       [0.19112788, 0.8088721 ],\n",
       "       [0.48693413, 0.5130659 ],\n",
       "       [0.07504562, 0.9249543 ],\n",
       "       [0.9415903 , 0.05840972],\n",
       "       [0.03915525, 0.9608447 ],\n",
       "       [0.6554169 , 0.34458303],\n",
       "       [0.20695437, 0.7930455 ],\n",
       "       [0.87369627, 0.12630367],\n",
       "       [0.08824214, 0.9117578 ],\n",
       "       [0.93934685, 0.06065312],\n",
       "       [0.38947037, 0.6105296 ]], dtype=float32)"
      ]
     },
     "execution_count": 26,
     "metadata": {},
     "output_type": "execute_result"
    }
   ],
   "source": [
    "predictions"
   ]
  },
  {
   "cell_type": "code",
   "execution_count": 27,
   "metadata": {
    "collapsed": true
   },
   "outputs": [],
   "source": [
    "rounded_predictions = model.predict(scaled_test_samples, batch_size=10, verbose=0) "
   ]
  },
  {
   "cell_type": "code",
   "execution_count": 28,
   "metadata": {
    "collapsed": false
   },
   "outputs": [
    {
     "data": {
      "text/plain": [
       "array([[0.9317879 , 0.06821204],\n",
       "       [0.2414492 , 0.75855076],\n",
       "       [0.8842554 , 0.11574464],\n",
       "       [0.1257272 , 0.87427276],\n",
       "       [0.90231985, 0.09768017],\n",
       "       [0.20695437, 0.7930455 ],\n",
       "       [0.87369627, 0.12630367],\n",
       "       [0.19112788, 0.8088721 ],\n",
       "       [0.837003  , 0.162997  ],\n",
       "       [0.0707525 , 0.9292475 ],\n",
       "       [0.6987954 , 0.30120462],\n",
       "       [0.09645706, 0.90354294],\n",
       "       [0.9415176 , 0.05848238],\n",
       "       [0.05021027, 0.9497897 ],\n",
       "       [0.8936874 , 0.10631257],\n",
       "       [0.22372901, 0.77627105],\n",
       "       [0.94137204, 0.05862795],\n",
       "       [0.10546644, 0.8945336 ],\n",
       "       [0.94151765, 0.05848238],\n",
       "       [0.10546643, 0.8945335 ],\n",
       "       [0.94139624, 0.05860367],\n",
       "       [0.04326528, 0.9567347 ],\n",
       "       [0.94132346, 0.05867655],\n",
       "       [0.0707525 , 0.92924744],\n",
       "       [0.8936874 , 0.10631257],\n",
       "       [0.04116121, 0.95883876],\n",
       "       [0.6774882 , 0.32251182],\n",
       "       [0.03915525, 0.9608447 ],\n",
       "       [0.9103217 , 0.08967834],\n",
       "       [0.07504562, 0.92495435],\n",
       "       [0.9337846 , 0.06621535],\n",
       "       [0.04547184, 0.95452815],\n",
       "       [0.511758  , 0.48824194],\n",
       "       [0.05275147, 0.9472486 ],\n",
       "       [0.9414691 , 0.05853086],\n",
       "       [0.16228412, 0.8377159 ],\n",
       "       [0.80806166, 0.19193837],\n",
       "       [0.19112788, 0.8088721 ],\n",
       "       [0.92419773, 0.07580227],\n",
       "       [0.1257272 , 0.87427276],\n",
       "       [0.511758  , 0.48824194],\n",
       "       [0.13705575, 0.8629442 ],\n",
       "       [0.9414206 , 0.05857939],\n",
       "       [0.08114146, 0.9188585 ],\n",
       "       [0.92419773, 0.07580227],\n",
       "       [0.27966607, 0.720334  ],\n",
       "       [0.6774882 , 0.32251182],\n",
       "       [0.32136914, 0.6786308 ],\n",
       "       [0.9381555 , 0.06184454],\n",
       "       [0.1622841 , 0.83771586],\n",
       "       [0.83700293, 0.162997  ],\n",
       "       [0.06737603, 0.9326239 ],\n",
       "       [0.87369627, 0.12630367],\n",
       "       [0.08824214, 0.9117578 ],\n",
       "       [0.93934685, 0.06065312],\n",
       "       [0.16228412, 0.8377159 ],\n",
       "       [0.94134766, 0.05865224],\n",
       "       [0.05275147, 0.9472486 ],\n",
       "       [0.9103217 , 0.08967834],\n",
       "       [0.06737603, 0.93262404],\n",
       "       [0.46217465, 0.53782535],\n",
       "       [0.3661302 , 0.6338698 ],\n",
       "       [0.9103217 , 0.08967834],\n",
       "       [0.05275147, 0.9472486 ],\n",
       "       [0.91772765, 0.08227226],\n",
       "       [0.26010278, 0.73989725],\n",
       "       [0.9414206 , 0.05857939],\n",
       "       [0.0707525 , 0.92924744],\n",
       "       [0.6092842 , 0.39071578],\n",
       "       [0.06417803, 0.93582195],\n",
       "       [0.94139624, 0.05860367],\n",
       "       [0.07504562, 0.9249543 ],\n",
       "       [0.8936874 , 0.10631257],\n",
       "       [0.07504562, 0.9249543 ],\n",
       "       [0.6774882 , 0.32251182],\n",
       "       [0.0477853 , 0.9522148 ],\n",
       "       [0.91772765, 0.08227226],\n",
       "       [0.05275147, 0.9472486 ],\n",
       "       [0.94151765, 0.05848238],\n",
       "       [0.0707525 , 0.9292475 ],\n",
       "       [0.8229962 , 0.17700389],\n",
       "       [0.19112788, 0.8088721 ],\n",
       "       [0.7753606 , 0.22463939],\n",
       "       [0.05541379, 0.94458616],\n",
       "       [0.511758  , 0.48824194],\n",
       "       [0.1257272 , 0.87427276],\n",
       "       [0.5365241 , 0.46347597],\n",
       "       [0.41332838, 0.5866716 ],\n",
       "       [0.53652406, 0.4634759 ],\n",
       "       [0.07504562, 0.92495435],\n",
       "       [0.9317879 , 0.06821204],\n",
       "       [0.1257272 , 0.87427276],\n",
       "       [0.90231985, 0.09768017],\n",
       "       [0.11520998, 0.88479   ],\n",
       "       [0.9414206 , 0.05857939],\n",
       "       [0.07504562, 0.9249543 ],\n",
       "       [0.83700293, 0.162997  ],\n",
       "       [0.0707525 , 0.92924744],\n",
       "       [0.87369627, 0.12630367],\n",
       "       [0.06737603, 0.93262404],\n",
       "       [0.7388886 , 0.26111138],\n",
       "       [0.26010278, 0.73989725],\n",
       "       [0.48693413, 0.5130659 ],\n",
       "       [0.27966607, 0.720334  ],\n",
       "       [0.9369423 , 0.0630578 ],\n",
       "       [0.30010402, 0.6998959 ],\n",
       "       [0.5611111 , 0.4388889 ],\n",
       "       [0.3661302 , 0.6338698 ],\n",
       "       [0.9412991 , 0.05870088],\n",
       "       [0.4133284 , 0.5866716 ],\n",
       "       [0.94137204, 0.05862795],\n",
       "       [0.05541379, 0.94458616],\n",
       "       [0.9414449 , 0.05855512],\n",
       "       [0.26010278, 0.73989725],\n",
       "       [0.9103217 , 0.08967834],\n",
       "       [0.05021027, 0.9497897 ],\n",
       "       [0.9414449 , 0.05855512],\n",
       "       [0.20695437, 0.7930455 ],\n",
       "       [0.5854018 , 0.4145982 ],\n",
       "       [0.14923087, 0.8507691 ],\n",
       "       [0.91772765, 0.08227226],\n",
       "       [0.26010278, 0.73989725],\n",
       "       [0.83700293, 0.162997  ],\n",
       "       [0.13705575, 0.8629442 ],\n",
       "       [0.5365241 , 0.46347597],\n",
       "       [0.04326528, 0.9567347 ],\n",
       "       [0.9415903 , 0.05840972],\n",
       "       [0.41332838, 0.5866716 ],\n",
       "       [0.9414449 , 0.05855512],\n",
       "       [0.30010405, 0.699896  ],\n",
       "       [0.9369423 , 0.0630578 ],\n",
       "       [0.09645706, 0.90354294],\n",
       "       [0.9414691 , 0.05853086],\n",
       "       [0.30010402, 0.6998959 ],\n",
       "       [0.511758  , 0.48824194],\n",
       "       [0.1257272 , 0.87427276],\n",
       "       [0.9415903 , 0.05840972],\n",
       "       [0.11520998, 0.88479   ],\n",
       "       [0.92896605, 0.07103393],\n",
       "       [0.04326528, 0.9567347 ],\n",
       "       [0.60928416, 0.39071575],\n",
       "       [0.34340185, 0.65659815],\n",
       "       [0.92419773, 0.07580227],\n",
       "       [0.38947037, 0.61052966],\n",
       "       [0.79218525, 0.20781478],\n",
       "       [0.2414492 , 0.75855076],\n",
       "       [0.9414691 , 0.05853086],\n",
       "       [0.08114146, 0.9188585 ],\n",
       "       [0.53652406, 0.4634759 ],\n",
       "       [0.38947037, 0.6105296 ],\n",
       "       [0.9416387 , 0.05836133],\n",
       "       [0.08114146, 0.9188585 ],\n",
       "       [0.90231985, 0.09768017],\n",
       "       [0.26010278, 0.73989725],\n",
       "       [0.43760026, 0.5623998 ],\n",
       "       [0.03915525, 0.9608447 ],\n",
       "       [0.87369627, 0.12630367],\n",
       "       [0.10546644, 0.8945336 ],\n",
       "       [0.837003  , 0.162997  ],\n",
       "       [0.08824214, 0.9117578 ],\n",
       "       [0.93815553, 0.06184454],\n",
       "       [0.17624266, 0.82375735],\n",
       "       [0.80806166, 0.19193837],\n",
       "       [0.04547184, 0.95452815],\n",
       "       [0.6554169 , 0.34458303],\n",
       "       [0.11520998, 0.88479   ],\n",
       "       [0.75759083, 0.24240926],\n",
       "       [0.05275147, 0.9472486 ],\n",
       "       [0.9412991 , 0.05870088],\n",
       "       [0.05275147, 0.9472486 ],\n",
       "       [0.94161445, 0.0583855 ],\n",
       "       [0.05541379, 0.94458616],\n",
       "       [0.5854018 , 0.4145982 ],\n",
       "       [0.08824214, 0.9117578 ],\n",
       "       [0.7753606 , 0.22463939],\n",
       "       [0.08114146, 0.9188585 ],\n",
       "       [0.8842554 , 0.11574464],\n",
       "       [0.34340185, 0.65659815],\n",
       "       [0.86232394, 0.13767606],\n",
       "       [0.08114146, 0.9188585 ],\n",
       "       [0.9103217 , 0.08967834],\n",
       "       [0.26010278, 0.73989725],\n",
       "       [0.93815553, 0.06184454],\n",
       "       [0.04547184, 0.95452815],\n",
       "       [0.91772765, 0.08227226],\n",
       "       [0.22372901, 0.77627105],\n",
       "       [0.48693413, 0.5130659 ],\n",
       "       [0.34340185, 0.65659815],\n",
       "       [0.65541697, 0.34458306],\n",
       "       [0.0707525 , 0.9292475 ],\n",
       "       [0.94134766, 0.05865224],\n",
       "       [0.17624266, 0.82375735],\n",
       "       [0.9416387 , 0.05836133],\n",
       "       [0.04326528, 0.9567347 ],\n",
       "       [0.91772765, 0.08227226],\n",
       "       [0.05541379, 0.94458616],\n",
       "       [0.9103217 , 0.08967834],\n",
       "       [0.32136914, 0.6786308 ],\n",
       "       [0.82299614, 0.17700388],\n",
       "       [0.05820223, 0.9417978 ],\n",
       "       [0.7192782 , 0.28072178],\n",
       "       [0.3661302 , 0.6338698 ],\n",
       "       [0.9414691 , 0.05853086],\n",
       "       [0.10546644, 0.8945336 ],\n",
       "       [0.7753606 , 0.22463939],\n",
       "       [0.04326528, 0.9567347 ],\n",
       "       [0.86232394, 0.13767606],\n",
       "       [0.38947037, 0.61052966],\n",
       "       [0.9381555 , 0.06184454],\n",
       "       [0.07504562, 0.92495435],\n",
       "       [0.6987954 , 0.30120462],\n",
       "       [0.26010278, 0.73989725],\n",
       "       [0.9415903 , 0.05840972],\n",
       "       [0.20695437, 0.7930455 ],\n",
       "       [0.92419773, 0.07580227],\n",
       "       [0.14923087, 0.8507691 ],\n",
       "       [0.92419773, 0.07580227],\n",
       "       [0.13705575, 0.8629442 ],\n",
       "       [0.92896605, 0.07103393],\n",
       "       [0.03915525, 0.96084476],\n",
       "       [0.6554169 , 0.34458303],\n",
       "       [0.04547184, 0.95452815],\n",
       "       [0.9415903 , 0.05840972],\n",
       "       [0.3661302 , 0.6338698 ],\n",
       "       [0.8936874 , 0.10631257],\n",
       "       [0.26010278, 0.73989725],\n",
       "       [0.43760026, 0.5623998 ],\n",
       "       [0.08824214, 0.9117578 ],\n",
       "       [0.92419773, 0.07580227],\n",
       "       [0.34340185, 0.65659815],\n",
       "       [0.43760026, 0.5623998 ],\n",
       "       [0.06417803, 0.93582195],\n",
       "       [0.9415418 , 0.05845815],\n",
       "       [0.06737603, 0.9326239 ],\n",
       "       [0.6987954 , 0.30120462],\n",
       "       [0.08824214, 0.9117578 ],\n",
       "       [0.79218525, 0.20781478],\n",
       "       [0.06417803, 0.93582195],\n",
       "       [0.82299614, 0.17700388],\n",
       "       [0.06737603, 0.93262404],\n",
       "       [0.9414449 , 0.05855512],\n",
       "       [0.09645706, 0.90354294],\n",
       "       [0.5611111 , 0.4388889 ],\n",
       "       [0.08824214, 0.9117578 ],\n",
       "       [0.87369627, 0.12630367],\n",
       "       [0.3661302 , 0.6338698 ],\n",
       "       [0.9103217 , 0.08967834],\n",
       "       [0.10546644, 0.8945336 ],\n",
       "       [0.8936874 , 0.10631257],\n",
       "       [0.19112788, 0.8088721 ],\n",
       "       [0.5365241 , 0.46347597],\n",
       "       [0.05541379, 0.94458616],\n",
       "       [0.46217465, 0.53782535],\n",
       "       [0.41332838, 0.5866716 ],\n",
       "       [0.8229962 , 0.17700389],\n",
       "       [0.26010278, 0.73989725],\n",
       "       [0.80806166, 0.19193837],\n",
       "       [0.22372901, 0.77627105],\n",
       "       [0.79218525, 0.20781478],\n",
       "       [0.0707525 , 0.9292475 ],\n",
       "       [0.46217465, 0.53782535],\n",
       "       [0.08114146, 0.9188585 ],\n",
       "       [0.93815553, 0.06184454],\n",
       "       [0.22372901, 0.77627105],\n",
       "       [0.7753606 , 0.22463939],\n",
       "       [0.19112788, 0.8088721 ],\n",
       "       [0.9317879 , 0.06821204],\n",
       "       [0.06737603, 0.9326239 ],\n",
       "       [0.53652406, 0.4634759 ],\n",
       "       [0.09645706, 0.90354294],\n",
       "       [0.80806166, 0.19193837],\n",
       "       [0.27966607, 0.720334  ],\n",
       "       [0.6987954 , 0.30120462],\n",
       "       [0.06112188, 0.9388782 ],\n",
       "       [0.9354882 , 0.06451178],\n",
       "       [0.0707525 , 0.92924744],\n",
       "       [0.94134766, 0.05865224],\n",
       "       [0.13705575, 0.8629442 ],\n",
       "       [0.77536064, 0.2246394 ],\n",
       "       [0.14923087, 0.8507691 ],\n",
       "       [0.86232394, 0.13767606],\n",
       "       [0.11520998, 0.88479   ],\n",
       "       [0.7753606 , 0.22463939],\n",
       "       [0.1257272 , 0.87427276],\n",
       "       [0.6987954 , 0.30120462],\n",
       "       [0.2414492 , 0.75855076],\n",
       "       [0.93934685, 0.06065312],\n",
       "       [0.03915525, 0.9608447 ],\n",
       "       [0.92896605, 0.07103393],\n",
       "       [0.38947037, 0.6105296 ],\n",
       "       [0.5611111 , 0.4388889 ],\n",
       "       [0.13705575, 0.8629442 ],\n",
       "       [0.94129896, 0.05870087],\n",
       "       [0.14923087, 0.8507691 ],\n",
       "       [0.7753606 , 0.22463939],\n",
       "       [0.14923087, 0.8507691 ],\n",
       "       [0.9414449 , 0.05855512],\n",
       "       [0.06417803, 0.93582195],\n",
       "       [0.77536064, 0.2246394 ],\n",
       "       [0.08114146, 0.9188585 ],\n",
       "       [0.7192782 , 0.28072178],\n",
       "       [0.05820223, 0.9417978 ],\n",
       "       [0.94041646, 0.05958354],\n",
       "       [0.05541379, 0.94458616],\n",
       "       [0.7388886 , 0.26111138],\n",
       "       [0.13705575, 0.8629442 ],\n",
       "       [0.60928416, 0.39071575],\n",
       "       [0.05541379, 0.94458616],\n",
       "       [0.93934685, 0.06065312],\n",
       "       [0.05541379, 0.94458616],\n",
       "       [0.92419773, 0.07580227],\n",
       "       [0.07504562, 0.9249543 ],\n",
       "       [0.6987954 , 0.30120462],\n",
       "       [0.04547184, 0.95452815],\n",
       "       [0.9414691 , 0.05853086],\n",
       "       [0.05820223, 0.9417978 ],\n",
       "       [0.80806166, 0.19193837],\n",
       "       [0.19112788, 0.8088721 ],\n",
       "       [0.511758  , 0.48824194],\n",
       "       [0.34340185, 0.65659815],\n",
       "       [0.8842554 , 0.11574464],\n",
       "       [0.34340185, 0.65659815],\n",
       "       [0.94156605, 0.05843393],\n",
       "       [0.05541379, 0.94458616],\n",
       "       [0.94129896, 0.05870087],\n",
       "       [0.1257272 , 0.87427276],\n",
       "       [0.9415176 , 0.05848238],\n",
       "       [0.16228412, 0.8377159 ],\n",
       "       [0.94132346, 0.05867655],\n",
       "       [0.03915525, 0.96084476],\n",
       "       [0.7753606 , 0.22463939],\n",
       "       [0.04116121, 0.95883876],\n",
       "       [0.9415903 , 0.05840972],\n",
       "       [0.08114146, 0.9188585 ],\n",
       "       [0.9369423 , 0.0630578 ],\n",
       "       [0.08114146, 0.9188585 ],\n",
       "       [0.8936874 , 0.10631257],\n",
       "       [0.16228412, 0.8377159 ],\n",
       "       [0.511758  , 0.48824194],\n",
       "       [0.06112188, 0.9388782 ],\n",
       "       [0.79218525, 0.20781478],\n",
       "       [0.0477853 , 0.9522148 ],\n",
       "       [0.92896605, 0.07103393],\n",
       "       [0.0707525 , 0.92924744],\n",
       "       [0.94134766, 0.05865224],\n",
       "       [0.04326528, 0.9567347 ],\n",
       "       [0.8936874 , 0.10631257],\n",
       "       [0.16228412, 0.8377159 ],\n",
       "       [0.94142056, 0.05857939],\n",
       "       [0.19112788, 0.8088721 ],\n",
       "       [0.94139624, 0.05860367],\n",
       "       [0.20695437, 0.7930455 ],\n",
       "       [0.75759083, 0.24240926],\n",
       "       [0.04116121, 0.95883876],\n",
       "       [0.94161445, 0.0583855 ],\n",
       "       [0.34340185, 0.65659815],\n",
       "       [0.46217465, 0.53782535],\n",
       "       [0.07504562, 0.9249543 ],\n",
       "       [0.92896605, 0.07103393],\n",
       "       [0.11520998, 0.88479   ],\n",
       "       [0.94156605, 0.05843393],\n",
       "       [0.05820223, 0.9417978 ],\n",
       "       [0.511758  , 0.48824194],\n",
       "       [0.08824214, 0.9117578 ],\n",
       "       [0.94156605, 0.05843393],\n",
       "       [0.05021027, 0.9497897 ],\n",
       "       [0.94041646, 0.05958354],\n",
       "       [0.05820223, 0.9417978 ],\n",
       "       [0.92419773, 0.07580227],\n",
       "       [0.09645706, 0.90354294],\n",
       "       [0.93934685, 0.06065312],\n",
       "       [0.14923087, 0.8507691 ],\n",
       "       [0.83700293, 0.162997  ],\n",
       "       [0.38947037, 0.61052966],\n",
       "       [0.93815553, 0.06184454],\n",
       "       [0.22372901, 0.77627105],\n",
       "       [0.8842554 , 0.11574464],\n",
       "       [0.41332838, 0.5866716 ],\n",
       "       [0.94142056, 0.05857939],\n",
       "       [0.06417803, 0.93582195],\n",
       "       [0.43760026, 0.5623998 ],\n",
       "       [0.08114146, 0.9188585 ],\n",
       "       [0.48693413, 0.5130659 ],\n",
       "       [0.05541379, 0.94458616],\n",
       "       [0.7388886 , 0.26111138],\n",
       "       [0.11520998, 0.88479   ],\n",
       "       [0.6987954 , 0.30120462],\n",
       "       [0.20695437, 0.7930455 ],\n",
       "       [0.9416387 , 0.05836133],\n",
       "       [0.1257272 , 0.87427276],\n",
       "       [0.94156605, 0.05843393],\n",
       "       [0.27966607, 0.720334  ],\n",
       "       [0.8936874 , 0.10631257],\n",
       "       [0.04116121, 0.95883876],\n",
       "       [0.86232394, 0.13767606],\n",
       "       [0.05275147, 0.9472486 ],\n",
       "       [0.46217465, 0.53782535],\n",
       "       [0.06737603, 0.9326239 ],\n",
       "       [0.93378466, 0.06621536],\n",
       "       [0.04547184, 0.95452815],\n",
       "       [0.46217465, 0.53782535],\n",
       "       [0.05541379, 0.94458616],\n",
       "       [0.7753606 , 0.22463939],\n",
       "       [0.07504562, 0.9249543 ],\n",
       "       [0.8936874 , 0.10631257],\n",
       "       [0.09645706, 0.90354294],\n",
       "       [0.94161445, 0.0583855 ],\n",
       "       [0.17624266, 0.82375735],\n",
       "       [0.9413478 , 0.05865225],\n",
       "       [0.19112788, 0.8088721 ],\n",
       "       [0.48693413, 0.5130659 ],\n",
       "       [0.07504562, 0.9249543 ],\n",
       "       [0.9415903 , 0.05840972],\n",
       "       [0.03915525, 0.9608447 ],\n",
       "       [0.6554169 , 0.34458303],\n",
       "       [0.20695437, 0.7930455 ],\n",
       "       [0.87369627, 0.12630367],\n",
       "       [0.08824214, 0.9117578 ],\n",
       "       [0.93934685, 0.06065312],\n",
       "       [0.38947037, 0.6105296 ]], dtype=float32)"
      ]
     },
     "execution_count": 28,
     "metadata": {},
     "output_type": "execute_result"
    }
   ],
   "source": [
    "rounded_predictions"
   ]
  },
  {
   "cell_type": "markdown",
   "metadata": {},
   "source": [
    "## Confusion Matrix"
   ]
  },
  {
   "cell_type": "code",
   "execution_count": 29,
   "metadata": {
    "collapsed": false
   },
   "outputs": [],
   "source": [
    "%matplotlib inline\n",
    "from sklearn.metrics import confusion_matrix\n",
    "import itertools\n",
    "import matplotlib.pyplot as plt"
   ]
  },
  {
   "cell_type": "code",
   "execution_count": 30,
   "metadata": {
    "collapsed": true
   },
   "outputs": [
    {
     "data": {
      "text/plain": [
       "((420,), (420, 2))"
      ]
     },
     "execution_count": 30,
     "metadata": {},
     "output_type": "execute_result"
    }
   ],
   "source": [
    "cm = confusion_matrix(test_labels, np.argmax(rounded_predictions, axis=-1))\n",
    "test_labels.shape, rounded_predictions.shape"
   ]
  },
  {
   "cell_type": "code",
   "execution_count": 31,
   "metadata": {
    "collapsed": true
   },
   "outputs": [],
   "source": [
    "def plot_confusion_matrix(cm, classes,\n",
    "                          normalize=False,\n",
    "                          title='Confusion matrix',\n",
    "                          cmap=plt.cm.Blues):\n",
    "    \"\"\"\n",
    "    This function prints and plots the confusion matrix.\n",
    "    Normalization can be applied by setting `normalize=True`.\n",
    "    \"\"\"\n",
    "    plt.imshow(cm, interpolation='nearest', cmap=cmap)\n",
    "    plt.title(title)\n",
    "    plt.colorbar()\n",
    "    tick_marks = np.arange(len(classes))\n",
    "    plt.xticks(tick_marks, classes, rotation=45)\n",
    "    plt.yticks(tick_marks, classes)\n",
    "\n",
    "    if normalize:\n",
    "        cm = cm.astype('float') / cm.sum(axis=1)[:, np.newaxis]\n",
    "        print(\"Normalized confusion matrix\")\n",
    "    else:\n",
    "        print('Confusion matrix, without normalization')\n",
    "\n",
    "    print(cm)\n",
    "\n",
    "    thresh = cm.max() / 2.\n",
    "    for i, j in itertools.product(range(cm.shape[0]), range(cm.shape[1])):\n",
    "        plt.text(j, i, cm[i, j],\n",
    "                 horizontalalignment=\"center\",\n",
    "                 color=\"white\" if cm[i, j] > thresh else \"black\")\n",
    "\n",
    "    plt.tight_layout()\n",
    "    plt.ylabel('True label')\n",
    "    plt.xlabel('Predicted label')"
   ]
  },
  {
   "cell_type": "code",
   "execution_count": 32,
   "metadata": {
    "collapsed": false
   },
   "outputs": [
    {
     "name": "stdout",
     "output_type": "stream",
     "text": [
      "Confusion matrix, without normalization\n",
      "[[186  24]\n",
      " [ 10 200]]\n"
     ]
    },
    {
     "data": {
      "image/png": "[encoded data removed]",
      "text/plain": [
       "<Figure size 640x480 with 2 Axes>"
      ]
     },
     "metadata": {},
     "output_type": "display_data"
    }
   ],
   "source": [
    "cm_plot_labels = ['no_side_effects','had_side_effects']\n",
    "plot_confusion_matrix(cm, cm_plot_labels, title='Confusion Matrix')"
   ]
  }
 ],
 "metadata": {
  "kernelspec": {
   "display_name": "Python 3",
   "language": "python",
   "name": "python3"
  },
  "language_info": {
   "codemirror_mode": {
    "name": "ipython",
    "version": 3
   },
   "file_extension": ".py",
   "mimetype": "text/x-python",
   "name": "python",
   "nbconvert_exporter": "python",
   "pygments_lexer": "ipython3",
   "version": "3.11.6"
  }
 },
 "nbformat": 4,
 "nbformat_minor": 2
}
